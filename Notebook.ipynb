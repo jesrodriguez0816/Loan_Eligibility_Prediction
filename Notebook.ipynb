{
 "cells": [
  {
   "cell_type": "markdown",
   "id": "a56555c7",
   "metadata": {},
   "source": [
    "# Loan Eligibility Prediction\n",
    "\n",
    "Jessica Rodriguez\n",
    "\n",
    "Flatiron School\n",
    "\n",
    "Github: jesrodriguez0816"
   ]
  },
  {
   "cell_type": "markdown",
   "id": "a8e68322",
   "metadata": {},
   "source": [
    "## Data Understanding\n",
    "* Build a **binary classifier** to predict whether a borrower woud default on a loan\n",
    "* Identify the primary determinants of risk\n",
    "* Look for any predictable patterns"
   ]
  },
  {
   "cell_type": "markdown",
   "id": "4e015808",
   "metadata": {},
   "source": [
    "## Data Preparation\n",
    "* Import libraries and packages\n",
    "* Inspect the data\n",
    "* Clean the data to prepare for modeling"
   ]
  },
  {
   "cell_type": "markdown",
   "id": "5e26d7a3",
   "metadata": {},
   "source": [
    "### Import Libraries and Packages"
   ]
  },
  {
   "cell_type": "code",
   "execution_count": 1,
   "id": "6f2c5af0",
   "metadata": {
    "scrolled": true
   },
   "outputs": [
    {
     "name": "stderr",
     "output_type": "stream",
     "text": [
      "/Users/jessicarodriguez/opt/anaconda3/envs/learn-env/lib/python3.6/site-packages/statsmodels/tools/_testing.py:19: FutureWarning: pandas.util.testing is deprecated. Use the functions in the public API at pandas.testing instead.\n",
      "  import pandas.util.testing as tm\n"
     ]
    }
   ],
   "source": [
    "#Import libraries and packages\n",
    "import pandas as pd \n",
    "import matplotlib.pyplot as plt \n",
    "import seaborn as sns\n",
    "import os\n",
    "import numpy as np\n",
    "import warnings\n",
    "from scipy import stats\n",
    "from IPython.core.interactiveshell import InteractiveShell\n",
    "\n",
    "from sklearn.model_selection import train_test_split, GridSearchCV, cross_val_score, RandomizedSearchCV\n",
    "import warnings\n",
    "warnings.filterwarnings('ignore')\n",
    "from sklearn.preprocessing import OneHotEncoder\n",
    "import itertools\n",
    "from sklearn.neighbors import KNeighborsClassifier\n",
    "from sklearn.tree import DecisionTreeClassifier\n",
    "from sklearn.linear_model import LinearRegression, LogisticRegression, Ridge, Lasso, ElasticNet\n",
    "from sklearn.metrics import accuracy_score, roc_auc_score, roc_curve, mean_squared_error, classification_report, confusion_matrix, roc_auc_score\n",
    "from sklearn.preprocessing import StandardScaler, scale\n",
    "from sklearn.pipeline import Pipeline\n",
    "from scipy.stats import randint\n",
    "from sklearn.metrics import precision_score, recall_score, accuracy_score, f1_score, auc, confusion_matrix, classification_report, recall_score\n",
    "from sklearn.neighbors import KNeighborsClassifier\n",
    "from sklearn.tree import DecisionTreeClassifier\n",
    "from sklearn.ensemble import BaggingClassifier, RandomForestClassifier, AdaBoostClassifier, GradientBoostingClassifier\n",
    "from xgboost import XGBClassifier, plot_importance\n",
    "from sklearn.datasets import make_blobs, make_moons\n",
    "from sklearn.svm import SVC\n",
    "from numpy import loadtxt\n",
    "\n",
    "from statsmodels.stats.outliers_influence import variance_inflation_factor\n",
    "import plotly.express as px\n",
    "import shap\n",
    "\n",
    "from sklearn import tree\n",
    "import networkx as nx\n",
    "import pylab as plt\n",
    "from networkx.drawing.nx_agraph import graphviz_layout"
   ]
  },
  {
   "cell_type": "markdown",
   "id": "c22a43dd",
   "metadata": {},
   "source": [
    "### Inspect the Data"
   ]
  },
  {
   "cell_type": "code",
   "execution_count": 2,
   "id": "b5270e46",
   "metadata": {},
   "outputs": [],
   "source": [
    "# importing the zipfile module\n",
    "from zipfile import ZipFile"
   ]
  },
  {
   "cell_type": "code",
   "execution_count": 3,
   "id": "41f74d30",
   "metadata": {},
   "outputs": [
    {
     "data": {
      "text/html": [
       "<div>\n",
       "<style scoped>\n",
       "    .dataframe tbody tr th:only-of-type {\n",
       "        vertical-align: middle;\n",
       "    }\n",
       "\n",
       "    .dataframe tbody tr th {\n",
       "        vertical-align: top;\n",
       "    }\n",
       "\n",
       "    .dataframe thead th {\n",
       "        text-align: right;\n",
       "    }\n",
       "</style>\n",
       "<table border=\"1\" class=\"dataframe\">\n",
       "  <thead>\n",
       "    <tr style=\"text-align: right;\">\n",
       "      <th></th>\n",
       "      <th>Id</th>\n",
       "      <th>Income</th>\n",
       "      <th>Age</th>\n",
       "      <th>Experience</th>\n",
       "      <th>Married/Single</th>\n",
       "      <th>House_Ownership</th>\n",
       "      <th>Car_Ownership</th>\n",
       "      <th>Profession</th>\n",
       "      <th>CITY</th>\n",
       "      <th>STATE</th>\n",
       "      <th>CURRENT_JOB_YRS</th>\n",
       "      <th>CURRENT_HOUSE_YRS</th>\n",
       "      <th>Risk_Flag</th>\n",
       "    </tr>\n",
       "  </thead>\n",
       "  <tbody>\n",
       "    <tr>\n",
       "      <th>0</th>\n",
       "      <td>1</td>\n",
       "      <td>1303834</td>\n",
       "      <td>23</td>\n",
       "      <td>3</td>\n",
       "      <td>single</td>\n",
       "      <td>rented</td>\n",
       "      <td>no</td>\n",
       "      <td>Mechanical_engineer</td>\n",
       "      <td>Rewa</td>\n",
       "      <td>Madhya_Pradesh</td>\n",
       "      <td>3</td>\n",
       "      <td>13</td>\n",
       "      <td>0</td>\n",
       "    </tr>\n",
       "    <tr>\n",
       "      <th>1</th>\n",
       "      <td>2</td>\n",
       "      <td>7574516</td>\n",
       "      <td>40</td>\n",
       "      <td>10</td>\n",
       "      <td>single</td>\n",
       "      <td>rented</td>\n",
       "      <td>no</td>\n",
       "      <td>Software_Developer</td>\n",
       "      <td>Parbhani</td>\n",
       "      <td>Maharashtra</td>\n",
       "      <td>9</td>\n",
       "      <td>13</td>\n",
       "      <td>0</td>\n",
       "    </tr>\n",
       "    <tr>\n",
       "      <th>2</th>\n",
       "      <td>3</td>\n",
       "      <td>3991815</td>\n",
       "      <td>66</td>\n",
       "      <td>4</td>\n",
       "      <td>married</td>\n",
       "      <td>rented</td>\n",
       "      <td>no</td>\n",
       "      <td>Technical_writer</td>\n",
       "      <td>Alappuzha</td>\n",
       "      <td>Kerala</td>\n",
       "      <td>4</td>\n",
       "      <td>10</td>\n",
       "      <td>0</td>\n",
       "    </tr>\n",
       "    <tr>\n",
       "      <th>3</th>\n",
       "      <td>4</td>\n",
       "      <td>6256451</td>\n",
       "      <td>41</td>\n",
       "      <td>2</td>\n",
       "      <td>single</td>\n",
       "      <td>rented</td>\n",
       "      <td>yes</td>\n",
       "      <td>Software_Developer</td>\n",
       "      <td>Bhubaneswar</td>\n",
       "      <td>Odisha</td>\n",
       "      <td>2</td>\n",
       "      <td>12</td>\n",
       "      <td>1</td>\n",
       "    </tr>\n",
       "    <tr>\n",
       "      <th>4</th>\n",
       "      <td>5</td>\n",
       "      <td>5768871</td>\n",
       "      <td>47</td>\n",
       "      <td>11</td>\n",
       "      <td>single</td>\n",
       "      <td>rented</td>\n",
       "      <td>no</td>\n",
       "      <td>Civil_servant</td>\n",
       "      <td>Tiruchirappalli[10]</td>\n",
       "      <td>Tamil_Nadu</td>\n",
       "      <td>3</td>\n",
       "      <td>14</td>\n",
       "      <td>1</td>\n",
       "    </tr>\n",
       "  </tbody>\n",
       "</table>\n",
       "</div>"
      ],
      "text/plain": [
       "   Id   Income  Age  Experience Married/Single House_Ownership Car_Ownership  \\\n",
       "0   1  1303834   23           3         single          rented            no   \n",
       "1   2  7574516   40          10         single          rented            no   \n",
       "2   3  3991815   66           4        married          rented            no   \n",
       "3   4  6256451   41           2         single          rented           yes   \n",
       "4   5  5768871   47          11         single          rented            no   \n",
       "\n",
       "            Profession                 CITY           STATE  CURRENT_JOB_YRS  \\\n",
       "0  Mechanical_engineer                 Rewa  Madhya_Pradesh                3   \n",
       "1   Software_Developer             Parbhani     Maharashtra                9   \n",
       "2     Technical_writer            Alappuzha          Kerala                4   \n",
       "3   Software_Developer          Bhubaneswar          Odisha                2   \n",
       "4        Civil_servant  Tiruchirappalli[10]      Tamil_Nadu                3   \n",
       "\n",
       "   CURRENT_HOUSE_YRS  Risk_Flag  \n",
       "0                 13          0  \n",
       "1                 13          0  \n",
       "2                 10          0  \n",
       "3                 12          1  \n",
       "4                 14          1  "
      ]
     },
     "execution_count": 3,
     "metadata": {},
     "output_type": "execute_result"
    }
   ],
   "source": [
    "#Inspect the first 5 rows of data\n",
    "df = pd.read_csv('Data/Training Data.csv')\n",
    "df.head()"
   ]
  },
  {
   "cell_type": "code",
   "execution_count": 4,
   "id": "fea8220a",
   "metadata": {},
   "outputs": [
    {
     "name": "stdout",
     "output_type": "stream",
     "text": [
      "The dataset has 252000 rows and 13 columns\n"
     ]
    }
   ],
   "source": [
    "#Inspect data shape\n",
    "print(\"The dataset has\",df.shape[0],\"rows and\" , df.shape[1], 'columns' )"
   ]
  },
  {
   "cell_type": "code",
   "execution_count": 5,
   "id": "8a93e81d",
   "metadata": {
    "scrolled": true
   },
   "outputs": [
    {
     "data": {
      "text/plain": [
       "Id                    int64\n",
       "Income                int64\n",
       "Age                   int64\n",
       "Experience            int64\n",
       "Married/Single       object\n",
       "House_Ownership      object\n",
       "Car_Ownership        object\n",
       "Profession           object\n",
       "CITY                 object\n",
       "STATE                object\n",
       "CURRENT_JOB_YRS       int64\n",
       "CURRENT_HOUSE_YRS     int64\n",
       "Risk_Flag             int64\n",
       "dtype: object"
      ]
     },
     "execution_count": 5,
     "metadata": {},
     "output_type": "execute_result"
    }
   ],
   "source": [
    "# Inspect datatypes\n",
    "df.dtypes"
   ]
  },
  {
   "cell_type": "code",
   "execution_count": 6,
   "id": "e3c91a53",
   "metadata": {},
   "outputs": [
    {
     "data": {
      "text/plain": [
       "Index(['Id', 'Income', 'Age', 'Experience', 'Married/Single',\n",
       "       'House_Ownership', 'Car_Ownership', 'Profession', 'CITY', 'STATE',\n",
       "       'CURRENT_JOB_YRS', 'CURRENT_HOUSE_YRS', 'Risk_Flag'],\n",
       "      dtype='object')"
      ]
     },
     "execution_count": 6,
     "metadata": {},
     "output_type": "execute_result"
    }
   ],
   "source": [
    "#Identify and list the names of each column\n",
    "df.columns"
   ]
  },
  {
   "cell_type": "markdown",
   "id": "acc6d8ee",
   "metadata": {},
   "source": [
    "There are 12 columns in this dataset:\n",
    "* **income**\n",
    "* **age**\n",
    "* **experience**\n",
    "* **married**\n",
    "* **house_ownership**\n",
    "* **car_ownership**\n",
    "* **risk_flag**\n",
    "* **currentjobyears**\n",
    "* **currenthouseyears**\n",
    "* **city**\n",
    "* **state**\n",
    "\n",
    "The **\"risk_flag\"** column indicates whether there has been a past loan default. This will be our target variable."
   ]
  },
  {
   "cell_type": "code",
   "execution_count": 7,
   "id": "19d3dd8a",
   "metadata": {},
   "outputs": [
    {
     "name": "stdout",
     "output_type": "stream",
     "text": [
      "Count of True values in Risk_Flag Column :  30996\n"
     ]
    }
   ],
   "source": [
    "# Calculate risk rate\n",
    "count = df['Risk_Flag'].sum()\n",
    "print('Count of True values in Risk_Flag Column : ', count)"
   ]
  },
  {
   "cell_type": "code",
   "execution_count": 8,
   "id": "075580c5",
   "metadata": {},
   "outputs": [],
   "source": [
    "#remove scientific notation from appropriate columns\n",
    "pd.set_option('display.float_format', lambda x: '%.3f' % x)"
   ]
  },
  {
   "cell_type": "code",
   "execution_count": 9,
   "id": "d263eb95",
   "metadata": {
    "scrolled": true
   },
   "outputs": [
    {
     "data": {
      "text/html": [
       "<div>\n",
       "<style scoped>\n",
       "    .dataframe tbody tr th:only-of-type {\n",
       "        vertical-align: middle;\n",
       "    }\n",
       "\n",
       "    .dataframe tbody tr th {\n",
       "        vertical-align: top;\n",
       "    }\n",
       "\n",
       "    .dataframe thead th {\n",
       "        text-align: right;\n",
       "    }\n",
       "</style>\n",
       "<table border=\"1\" class=\"dataframe\">\n",
       "  <thead>\n",
       "    <tr style=\"text-align: right;\">\n",
       "      <th></th>\n",
       "      <th>Id</th>\n",
       "      <th>Income</th>\n",
       "      <th>Age</th>\n",
       "      <th>Experience</th>\n",
       "      <th>CURRENT_JOB_YRS</th>\n",
       "      <th>CURRENT_HOUSE_YRS</th>\n",
       "      <th>Risk_Flag</th>\n",
       "    </tr>\n",
       "  </thead>\n",
       "  <tbody>\n",
       "    <tr>\n",
       "      <th>count</th>\n",
       "      <td>252000.000</td>\n",
       "      <td>252000.000</td>\n",
       "      <td>252000.000</td>\n",
       "      <td>252000.000</td>\n",
       "      <td>252000.000</td>\n",
       "      <td>252000.000</td>\n",
       "      <td>252000.000</td>\n",
       "    </tr>\n",
       "    <tr>\n",
       "      <th>mean</th>\n",
       "      <td>126000.500</td>\n",
       "      <td>4997116.665</td>\n",
       "      <td>49.954</td>\n",
       "      <td>10.084</td>\n",
       "      <td>6.334</td>\n",
       "      <td>11.998</td>\n",
       "      <td>0.123</td>\n",
       "    </tr>\n",
       "    <tr>\n",
       "      <th>std</th>\n",
       "      <td>72746.278</td>\n",
       "      <td>2878311.014</td>\n",
       "      <td>17.064</td>\n",
       "      <td>6.003</td>\n",
       "      <td>3.647</td>\n",
       "      <td>1.399</td>\n",
       "      <td>0.328</td>\n",
       "    </tr>\n",
       "    <tr>\n",
       "      <th>min</th>\n",
       "      <td>1.000</td>\n",
       "      <td>10310.000</td>\n",
       "      <td>21.000</td>\n",
       "      <td>0.000</td>\n",
       "      <td>0.000</td>\n",
       "      <td>10.000</td>\n",
       "      <td>0.000</td>\n",
       "    </tr>\n",
       "    <tr>\n",
       "      <th>25%</th>\n",
       "      <td>63000.750</td>\n",
       "      <td>2503015.000</td>\n",
       "      <td>35.000</td>\n",
       "      <td>5.000</td>\n",
       "      <td>3.000</td>\n",
       "      <td>11.000</td>\n",
       "      <td>0.000</td>\n",
       "    </tr>\n",
       "    <tr>\n",
       "      <th>50%</th>\n",
       "      <td>126000.500</td>\n",
       "      <td>5000694.500</td>\n",
       "      <td>50.000</td>\n",
       "      <td>10.000</td>\n",
       "      <td>6.000</td>\n",
       "      <td>12.000</td>\n",
       "      <td>0.000</td>\n",
       "    </tr>\n",
       "    <tr>\n",
       "      <th>75%</th>\n",
       "      <td>189000.250</td>\n",
       "      <td>7477502.000</td>\n",
       "      <td>65.000</td>\n",
       "      <td>15.000</td>\n",
       "      <td>9.000</td>\n",
       "      <td>13.000</td>\n",
       "      <td>0.000</td>\n",
       "    </tr>\n",
       "    <tr>\n",
       "      <th>max</th>\n",
       "      <td>252000.000</td>\n",
       "      <td>9999938.000</td>\n",
       "      <td>79.000</td>\n",
       "      <td>20.000</td>\n",
       "      <td>14.000</td>\n",
       "      <td>14.000</td>\n",
       "      <td>1.000</td>\n",
       "    </tr>\n",
       "  </tbody>\n",
       "</table>\n",
       "</div>"
      ],
      "text/plain": [
       "              Id      Income        Age  Experience  CURRENT_JOB_YRS  \\\n",
       "count 252000.000  252000.000 252000.000  252000.000       252000.000   \n",
       "mean  126000.500 4997116.665     49.954      10.084            6.334   \n",
       "std    72746.278 2878311.014     17.064       6.003            3.647   \n",
       "min        1.000   10310.000     21.000       0.000            0.000   \n",
       "25%    63000.750 2503015.000     35.000       5.000            3.000   \n",
       "50%   126000.500 5000694.500     50.000      10.000            6.000   \n",
       "75%   189000.250 7477502.000     65.000      15.000            9.000   \n",
       "max   252000.000 9999938.000     79.000      20.000           14.000   \n",
       "\n",
       "       CURRENT_HOUSE_YRS  Risk_Flag  \n",
       "count         252000.000 252000.000  \n",
       "mean              11.998      0.123  \n",
       "std                1.399      0.328  \n",
       "min               10.000      0.000  \n",
       "25%               11.000      0.000  \n",
       "50%               12.000      0.000  \n",
       "75%               13.000      0.000  \n",
       "max               14.000      1.000  "
      ]
     },
     "execution_count": 9,
     "metadata": {},
     "output_type": "execute_result"
    }
   ],
   "source": [
    "#Get information\n",
    "df.describe()"
   ]
  },
  {
   "cell_type": "code",
   "execution_count": 10,
   "id": "6d0a25ef",
   "metadata": {
    "scrolled": true
   },
   "outputs": [
    {
     "name": "stdout",
     "output_type": "stream",
     "text": [
      "<class 'pandas.core.frame.DataFrame'>\n",
      "RangeIndex: 252000 entries, 0 to 251999\n",
      "Data columns (total 13 columns):\n",
      " #   Column             Non-Null Count   Dtype \n",
      "---  ------             --------------   ----- \n",
      " 0   Id                 252000 non-null  int64 \n",
      " 1   Income             252000 non-null  int64 \n",
      " 2   Age                252000 non-null  int64 \n",
      " 3   Experience         252000 non-null  int64 \n",
      " 4   Married/Single     252000 non-null  object\n",
      " 5   House_Ownership    252000 non-null  object\n",
      " 6   Car_Ownership      252000 non-null  object\n",
      " 7   Profession         252000 non-null  object\n",
      " 8   CITY               252000 non-null  object\n",
      " 9   STATE              252000 non-null  object\n",
      " 10  CURRENT_JOB_YRS    252000 non-null  int64 \n",
      " 11  CURRENT_HOUSE_YRS  252000 non-null  int64 \n",
      " 12  Risk_Flag          252000 non-null  int64 \n",
      "dtypes: int64(7), object(6)\n",
      "memory usage: 25.0+ MB\n"
     ]
    }
   ],
   "source": [
    "# Get information\n",
    "# Check categorical variables (variables that are not quantifiable)\n",
    "df.info()"
   ]
  },
  {
   "cell_type": "markdown",
   "id": "dc006953",
   "metadata": {},
   "source": [
    "**Categorical variables**: Married/Single, House_Ownership, Car_Ownership, Profession, City, State"
   ]
  },
  {
   "cell_type": "code",
   "execution_count": 11,
   "id": "70dc8175",
   "metadata": {},
   "outputs": [
    {
     "name": "stdout",
     "output_type": "stream",
     "text": [
      "Married/Single: 2 uniqueness variable\n",
      "House_Ownership: 3 uniqueness variable\n",
      "Car_Ownership: 2 uniqueness variable\n",
      "Profession: 51 uniqueness variable\n",
      "CITY: 317 uniqueness variable\n",
      "STATE: 29 uniqueness variable\n"
     ]
    }
   ],
   "source": [
    "# How many unique categorical variables are there?\n",
    "categorical = df.select_dtypes([\"category\", \"object\"]).columns\n",
    "\n",
    "for cat_col in categorical:\n",
    "    print(f\"{cat_col}: {df[cat_col].nunique()} uniqueness variable\")"
   ]
  },
  {
   "cell_type": "code",
   "execution_count": 12,
   "id": "3040e521",
   "metadata": {
    "scrolled": true
   },
   "outputs": [
    {
     "data": {
      "text/plain": [
       "Id                 0\n",
       "Income             0\n",
       "Age                0\n",
       "Experience         0\n",
       "Married/Single     0\n",
       "House_Ownership    0\n",
       "Car_Ownership      0\n",
       "Profession         0\n",
       "CITY               0\n",
       "STATE              0\n",
       "dtype: int64"
      ]
     },
     "execution_count": 12,
     "metadata": {},
     "output_type": "execute_result"
    }
   ],
   "source": [
    "# Get the number of missing data points per column\n",
    "missing_values_count = df.isnull().sum()\n",
    "# Look at the missing points in the first ten columns\n",
    "missing_values_count[:10]"
   ]
  },
  {
   "cell_type": "markdown",
   "id": "43804075",
   "metadata": {},
   "source": [
    "There are no missing data points in any column."
   ]
  },
  {
   "cell_type": "markdown",
   "id": "c8ad025f",
   "metadata": {},
   "source": [
    "### Clean the Data\n",
    "* Adjust columns as needed.\n",
    "\n",
    "* Address class imbalance"
   ]
  },
  {
   "cell_type": "code",
   "execution_count": 13,
   "id": "35adfcee",
   "metadata": {
    "scrolled": true
   },
   "outputs": [
    {
     "data": {
      "text/plain": [
       "Index(['Id', 'Income', 'Age', 'Experience', 'Married/Single',\n",
       "       'House_Ownership', 'Car_Ownership', 'Profession', 'CITY', 'STATE',\n",
       "       'CURRENT_JOB_YRS', 'CURRENT_HOUSE_YRS', 'Risk_Flag'],\n",
       "      dtype='object')"
      ]
     },
     "execution_count": 13,
     "metadata": {},
     "output_type": "execute_result"
    }
   ],
   "source": [
    "# List all columns\n",
    "df.columns"
   ]
  },
  {
   "cell_type": "code",
   "execution_count": 14,
   "id": "0d7da875",
   "metadata": {},
   "outputs": [
    {
     "data": {
      "text/plain": [
       "Index(['id', 'income', 'age', 'experience', 'married/single',\n",
       "       'house_ownership', 'car_ownership', 'profession', 'city', 'state',\n",
       "       'current_job_yrs', 'current_house_yrs', 'risk_flag'],\n",
       "      dtype='object')"
      ]
     },
     "execution_count": 14,
     "metadata": {},
     "output_type": "execute_result"
    }
   ],
   "source": [
    "# Lowercase column names\n",
    "df.columns = df.columns.str.lower()\n",
    "df.columns"
   ]
  },
  {
   "cell_type": "code",
   "execution_count": 15,
   "id": "83c5cb44",
   "metadata": {},
   "outputs": [
    {
     "data": {
      "text/plain": [
       "Index(['id', 'income', 'age', 'experience', 'married_single',\n",
       "       'house_ownership', 'car_ownership', 'profession', 'city', 'state',\n",
       "       'current_job_yrs', 'current_house_yrs', 'risk_flag'],\n",
       "      dtype='object')"
      ]
     },
     "execution_count": 15,
     "metadata": {},
     "output_type": "execute_result"
    }
   ],
   "source": [
    "# Rename columns\n",
    "df.rename(columns={\"married/single\": \"married_single\"}, inplace=True)\n",
    "df.columns"
   ]
  },
  {
   "cell_type": "code",
   "execution_count": 16,
   "id": "17f9f112",
   "metadata": {},
   "outputs": [
    {
     "data": {
      "text/plain": [
       "array(['Rewa', 'Parbhani', 'Alappuzha', 'Bhubaneswar', 'Tiruchirappalli',\n",
       "       'Jalgaon', 'Tiruppur', 'Jamnagar', 'Kota', 'Karimnagar', 'Hajipur',\n",
       "       'Adoni', 'Erode', 'Kollam', 'Madurai', 'Anantapuram', 'Kamarhati',\n",
       "       'Bhusawal', 'Sirsa', 'Amaravati', 'Secunderabad', 'Ahmedabad',\n",
       "       'Ajmer', 'Ongole', 'Miryalaguda', 'Ambattur', 'Indore',\n",
       "       'Pondicherry', 'Shimoga', 'Chennai', 'Gulbarga', 'Khammam',\n",
       "       'Saharanpur', 'Gopalpur', 'Amravati', 'Udupi', 'Howrah',\n",
       "       'Aurangabad', 'Hospet', 'Shimla', 'Khandwa', 'Bidhannagar',\n",
       "       'Bellary', 'Danapur', 'Purnia', 'Bijapur', 'Patiala', 'Malda',\n",
       "       'Sagar', 'Durgapur', 'Junagadh', 'Singrauli', 'Agartala',\n",
       "       'Thanjavur', 'Hindupur', 'Naihati', 'North', 'Panchkula',\n",
       "       'Anantapur', 'Serampore', 'Bathinda', 'Nadiad', 'Kanpur',\n",
       "       'Haridwar', 'Berhampur', 'Jamshedpur', 'Hyderabad', 'Bidar',\n",
       "       'Kottayam', 'Solapur', 'Suryapet', 'Aizawl', 'Asansol', 'Deoghar',\n",
       "       'Eluru', 'Ulhasnagar', 'Aligarh', 'South', 'Berhampore',\n",
       "       'Gandhinagar', 'Sonipat', 'Muzaffarpur', 'Raichur', 'Rajpur',\n",
       "       'Ambarnath', 'Katihar', 'Kozhikode', 'Vellore', 'Malegaon',\n",
       "       'Kochi', 'Nagaon', 'Nagpur', 'Srinagar', 'Davanagere', 'Bhagalpur',\n",
       "       'Siwan', 'Meerut', 'Dindigul', 'Bhatpara', 'Ghaziabad', 'Kulti',\n",
       "       'Chapra', 'Dibrugarh', 'Panihati', 'Bhiwandi', 'Morbi', 'Kalyan',\n",
       "       'Gorakhpur', 'Panvel', 'Siliguri', 'Bongaigaon', 'Patna',\n",
       "       'Ramgarh', 'Ozhukarai', 'Mirzapur', 'Akola', 'Satna', 'Motihari',\n",
       "       'Jalna', 'Jalandhar', 'Unnao', 'Karnal', 'Cuttack', 'Proddatur',\n",
       "       'Ichalkaranji', 'Warangal', 'Jhansi', 'Bulandshahr',\n",
       "       'Narasaraopet', 'Chinsurah', 'Jehanabad', 'Dhanbad', 'Gudivada',\n",
       "       'Gandhidham', 'Raiganj', 'Kishanganj', 'Varanasi', 'Belgaum',\n",
       "       'Tirupati', 'Tumkur', 'Coimbatore', 'Kurnool', 'Gurgaon',\n",
       "       'Muzaffarnagar', 'Bhavnagar', 'Arrah', 'Munger', 'Tirunelveli',\n",
       "       'Mumbai', 'Mango', 'Nashik', 'Kadapa', 'Amritsar', 'Khora',\n",
       "       'Ambala', 'Agra', 'Ratlam', 'Surendranagar', 'Delhi', 'Bhopal',\n",
       "       'Hapur', 'Rohtak', 'Durg', 'Korba', 'Bangalore', 'Shivpuri',\n",
       "       'Thrissur', 'Vijayanagaram', 'Farrukhabad', 'Nangloi',\n",
       "       'Madanapalle', 'Thoothukudi', 'Nagercoil', 'Gaya', 'Chandigarh',\n",
       "       'Jammu', 'Kakinada', 'Dewas', 'Bhalswa', 'Baranagar', 'Firozabad',\n",
       "       'Phusro', 'Allahabad', 'Guna', 'Thane', 'Etawah', 'Vasai',\n",
       "       'Pallavaram', 'Morena', 'Ballia', 'Surat', 'Burhanpur', 'Phagwara',\n",
       "       'Mau', 'Mangalore', 'Alwar', 'Mahbubnagar', 'Maheshtala',\n",
       "       'Hazaribagh', 'Bihar', 'Faridabad', 'Lucknow', 'Tenali', 'Barasat',\n",
       "       'Amroha', 'Giridih', 'Begusarai', 'Medininagar', 'Rajahmundry',\n",
       "       'Saharsa', 'New', 'Bhilai', 'Moradabad', 'Machilipatnam', 'Mira',\n",
       "       'Pali', 'Navi', 'Mehsana', 'Imphal', 'Kolkata', 'Sambalpur',\n",
       "       'Ujjain', 'Madhyamgram', 'Jabalpur', 'Jamalpur', 'Ludhiana',\n",
       "       'Bareilly', 'Gangtok', 'Anand', 'Dehradun', 'Pune', 'Satara',\n",
       "       'Srikakulam', 'Raipur', 'Jodhpur', 'Darbhanga', 'Nizamabad',\n",
       "       'Nandyal', 'Dehri', 'Jorhat', 'Ranchi', 'Kumbakonam', 'Guntakal',\n",
       "       'Haldia', 'Loni', 'Pimpri', 'Rajkot', 'Nanded', 'Noida', 'Kirari',\n",
       "       'Jaunpur', 'Bilaspur', 'Sambhal', 'Dhule', 'Rourkela',\n",
       "       'Thiruvananthapuram', 'Dharmavaram', 'Nellore', 'Visakhapatnam',\n",
       "       'Karawal', 'Jaipur', 'Avadi', 'Bhimavaram', 'Bardhaman', 'Silchar',\n",
       "       'Buxar', 'Kavali', 'Tezpur', 'Ramagundam', 'Yamunanagar', 'Sri',\n",
       "       'Sasaram', 'Sikar', 'Bally', 'Bhiwani', 'Rampur', 'Uluberia',\n",
       "       'Sangli', 'Hosur', 'Bikaner', 'Shahjahanpur', 'Sultan',\n",
       "       'Vijayawada', 'Bharatpur', 'Tadepalligudem', 'Tinsukia', 'Salem',\n",
       "       'Mathura', 'Guntur', 'Hubli', 'Guwahati', 'Chittoor',\n",
       "       'Tiruvottiyur', 'Vadodara', 'Ahmednagar', 'Fatehpur', 'Bhilwara',\n",
       "       'Kharagpur', 'Bettiah', 'Bhind', 'Bokaro', 'Karaikudi',\n",
       "       'Raebareli', 'Pudukkottai', 'Udaipur', 'Mysore', 'Panipat',\n",
       "       'Latur', 'Tadipatri', 'Bahraich', 'Orai', 'Raurkela', 'Gwalior',\n",
       "       'Katni', 'Chandrapur', 'Kolhapur'], dtype=object)"
      ]
     },
     "execution_count": 16,
     "metadata": {},
     "output_type": "execute_result"
    }
   ],
   "source": [
    "# Clean characters in city and state columns\n",
    "df.city = df.city.str.extract(\"([A-Za-z]+)\")\n",
    "df.city.unique()"
   ]
  },
  {
   "cell_type": "code",
   "execution_count": 17,
   "id": "8e9a586b",
   "metadata": {
    "scrolled": true
   },
   "outputs": [
    {
     "data": {
      "text/plain": [
       "array(['Madhya', 'Maharashtra', 'Kerala', 'Odisha', 'Tamil', 'Gujarat',\n",
       "       'Rajasthan', 'Telangana', 'Bihar', 'Andhra', 'West', 'Haryana',\n",
       "       'Puducherry', 'Karnataka', 'Uttar', 'Himachal', 'Punjab',\n",
       "       'Tripura', 'Uttarakhand', 'Jharkhand', 'Mizoram', 'Assam', 'Jammu',\n",
       "       'Delhi', 'Chhattisgarh', 'Chandigarh', 'Manipur', 'Sikkim'],\n",
       "      dtype=object)"
      ]
     },
     "execution_count": 17,
     "metadata": {},
     "output_type": "execute_result"
    }
   ],
   "source": [
    "df.state = df.state.str.extract(\"([A-Za-z]+)\")\n",
    "df.state.unique()"
   ]
  },
  {
   "cell_type": "markdown",
   "id": "842d21a7",
   "metadata": {},
   "source": [
    "Now we need to balance the dataset.\n",
    "\n",
    "In order to have normal distribution, our classes need to be equivalent."
   ]
  },
  {
   "cell_type": "code",
   "execution_count": 18,
   "id": "c05accf4",
   "metadata": {},
   "outputs": [],
   "source": [
    "#Random Sample\n",
    "df = df.sample(frac=1)\n"
   ]
  },
  {
   "cell_type": "code",
   "execution_count": 19,
   "id": "927a6d79",
   "metadata": {},
   "outputs": [],
   "source": [
    "# Normalize the data\n",
    "\n",
    "risk_data = df.loc[df[\"risk_flag\"] == 1]\n",
    "not_risk_data = df.loc[df[\"risk_flag\"] == 0][:30996]\n",
    "\n",
    "normal_distributed_data = pd.concat([risk_data, not_risk_data])"
   ]
  },
  {
   "cell_type": "code",
   "execution_count": 20,
   "id": "ca9af8e1",
   "metadata": {},
   "outputs": [
    {
     "data": {
      "text/html": [
       "<div>\n",
       "<style scoped>\n",
       "    .dataframe tbody tr th:only-of-type {\n",
       "        vertical-align: middle;\n",
       "    }\n",
       "\n",
       "    .dataframe tbody tr th {\n",
       "        vertical-align: top;\n",
       "    }\n",
       "\n",
       "    .dataframe thead th {\n",
       "        text-align: right;\n",
       "    }\n",
       "</style>\n",
       "<table border=\"1\" class=\"dataframe\">\n",
       "  <thead>\n",
       "    <tr style=\"text-align: right;\">\n",
       "      <th></th>\n",
       "      <th>id</th>\n",
       "      <th>income</th>\n",
       "      <th>age</th>\n",
       "      <th>experience</th>\n",
       "      <th>married_single</th>\n",
       "      <th>house_ownership</th>\n",
       "      <th>car_ownership</th>\n",
       "      <th>profession</th>\n",
       "      <th>city</th>\n",
       "      <th>state</th>\n",
       "      <th>current_job_yrs</th>\n",
       "      <th>current_house_yrs</th>\n",
       "      <th>risk_flag</th>\n",
       "    </tr>\n",
       "  </thead>\n",
       "  <tbody>\n",
       "    <tr>\n",
       "      <th>13812</th>\n",
       "      <td>13813</td>\n",
       "      <td>9240885</td>\n",
       "      <td>49</td>\n",
       "      <td>19</td>\n",
       "      <td>single</td>\n",
       "      <td>rented</td>\n",
       "      <td>yes</td>\n",
       "      <td>Surgeon</td>\n",
       "      <td>Asansol</td>\n",
       "      <td>West</td>\n",
       "      <td>14</td>\n",
       "      <td>13</td>\n",
       "      <td>0</td>\n",
       "    </tr>\n",
       "    <tr>\n",
       "      <th>125840</th>\n",
       "      <td>125841</td>\n",
       "      <td>9249971</td>\n",
       "      <td>69</td>\n",
       "      <td>4</td>\n",
       "      <td>single</td>\n",
       "      <td>rented</td>\n",
       "      <td>no</td>\n",
       "      <td>Physician</td>\n",
       "      <td>Pali</td>\n",
       "      <td>Rajasthan</td>\n",
       "      <td>4</td>\n",
       "      <td>14</td>\n",
       "      <td>0</td>\n",
       "    </tr>\n",
       "    <tr>\n",
       "      <th>155790</th>\n",
       "      <td>155791</td>\n",
       "      <td>3390339</td>\n",
       "      <td>22</td>\n",
       "      <td>19</td>\n",
       "      <td>single</td>\n",
       "      <td>rented</td>\n",
       "      <td>no</td>\n",
       "      <td>Comedian</td>\n",
       "      <td>Davanagere</td>\n",
       "      <td>Karnataka</td>\n",
       "      <td>3</td>\n",
       "      <td>13</td>\n",
       "      <td>0</td>\n",
       "    </tr>\n",
       "    <tr>\n",
       "      <th>218431</th>\n",
       "      <td>218432</td>\n",
       "      <td>9290440</td>\n",
       "      <td>59</td>\n",
       "      <td>5</td>\n",
       "      <td>single</td>\n",
       "      <td>rented</td>\n",
       "      <td>no</td>\n",
       "      <td>Civil_servant</td>\n",
       "      <td>Nashik</td>\n",
       "      <td>Maharashtra</td>\n",
       "      <td>5</td>\n",
       "      <td>11</td>\n",
       "      <td>1</td>\n",
       "    </tr>\n",
       "    <tr>\n",
       "      <th>187597</th>\n",
       "      <td>187598</td>\n",
       "      <td>5953603</td>\n",
       "      <td>29</td>\n",
       "      <td>11</td>\n",
       "      <td>single</td>\n",
       "      <td>rented</td>\n",
       "      <td>yes</td>\n",
       "      <td>Mechanical_engineer</td>\n",
       "      <td>Nagpur</td>\n",
       "      <td>Maharashtra</td>\n",
       "      <td>7</td>\n",
       "      <td>10</td>\n",
       "      <td>1</td>\n",
       "    </tr>\n",
       "  </tbody>\n",
       "</table>\n",
       "</div>"
      ],
      "text/plain": [
       "            id   income  age  experience married_single house_ownership  \\\n",
       "13812    13813  9240885   49          19         single          rented   \n",
       "125840  125841  9249971   69           4         single          rented   \n",
       "155790  155791  3390339   22          19         single          rented   \n",
       "218431  218432  9290440   59           5         single          rented   \n",
       "187597  187598  5953603   29          11         single          rented   \n",
       "\n",
       "       car_ownership           profession        city        state  \\\n",
       "13812            yes              Surgeon     Asansol         West   \n",
       "125840            no            Physician        Pali    Rajasthan   \n",
       "155790            no             Comedian  Davanagere    Karnataka   \n",
       "218431            no        Civil_servant      Nashik  Maharashtra   \n",
       "187597           yes  Mechanical_engineer      Nagpur  Maharashtra   \n",
       "\n",
       "        current_job_yrs  current_house_yrs  risk_flag  \n",
       "13812                14                 13          0  \n",
       "125840                4                 14          0  \n",
       "155790                3                 13          0  \n",
       "218431                5                 11          1  \n",
       "187597                7                 10          1  "
      ]
     },
     "execution_count": 20,
     "metadata": {},
     "output_type": "execute_result"
    }
   ],
   "source": [
    "# Shuffle dataframe rows\n",
    "df_loan = normal_distributed_data.sample(frac=1, random_state=42)\n",
    "df_loan.head()"
   ]
  },
  {
   "cell_type": "code",
   "execution_count": 21,
   "id": "d71abce6",
   "metadata": {
    "scrolled": true
   },
   "outputs": [
    {
     "name": "stdout",
     "output_type": "stream",
     "text": [
      "Risk_flag distribution\n",
      "1   0.500\n",
      "0   0.500\n",
      "Name: risk_flag, dtype: float64\n"
     ]
    },
    {
     "data": {
      "image/png": "[encoded data removed]",
      "text/plain": [
       "<Figure size 432x288 with 1 Axes>"
      ]
     },
     "metadata": {
      "needs_background": "light"
     },
     "output_type": "display_data"
    }
   ],
   "source": [
    "print(\"Risk_flag distribution\")\n",
    "print(df_loan[\"risk_flag\"].value_counts() / len(df_loan))\n",
    "\n",
    "sns.countplot(\"risk_flag\", data=df_loan)\n",
    "plt.title('Equally Distributed Risk Flag', fontsize=12);"
   ]
  },
  {
   "cell_type": "markdown",
   "id": "2e9901ff",
   "metadata": {},
   "source": [
    "## Statistics and Visualization\n",
    "* Identify correlations between variables\n",
    "* Get statistics\n",
    "* Create visualizations"
   ]
  },
  {
   "cell_type": "code",
   "execution_count": 22,
   "id": "6a80ad85",
   "metadata": {},
   "outputs": [
    {
     "data": {
      "text/html": [
       "<div>\n",
       "<style scoped>\n",
       "    .dataframe tbody tr th:only-of-type {\n",
       "        vertical-align: middle;\n",
       "    }\n",
       "\n",
       "    .dataframe tbody tr th {\n",
       "        vertical-align: top;\n",
       "    }\n",
       "\n",
       "    .dataframe thead th {\n",
       "        text-align: right;\n",
       "    }\n",
       "</style>\n",
       "<table border=\"1\" class=\"dataframe\">\n",
       "  <thead>\n",
       "    <tr style=\"text-align: right;\">\n",
       "      <th></th>\n",
       "      <th>id</th>\n",
       "      <th>income</th>\n",
       "      <th>age</th>\n",
       "      <th>experience</th>\n",
       "      <th>current_job_yrs</th>\n",
       "      <th>current_house_yrs</th>\n",
       "      <th>risk_flag</th>\n",
       "    </tr>\n",
       "  </thead>\n",
       "  <tbody>\n",
       "    <tr>\n",
       "      <th>count</th>\n",
       "      <td>61992.000</td>\n",
       "      <td>61992.000</td>\n",
       "      <td>61992.000</td>\n",
       "      <td>61992.000</td>\n",
       "      <td>61992.000</td>\n",
       "      <td>61992.000</td>\n",
       "      <td>61992.000</td>\n",
       "    </tr>\n",
       "    <tr>\n",
       "      <th>mean</th>\n",
       "      <td>128998.208</td>\n",
       "      <td>4990145.477</td>\n",
       "      <td>49.488</td>\n",
       "      <td>9.840</td>\n",
       "      <td>6.277</td>\n",
       "      <td>11.994</td>\n",
       "      <td>0.500</td>\n",
       "    </tr>\n",
       "    <tr>\n",
       "      <th>std</th>\n",
       "      <td>76258.299</td>\n",
       "      <td>2897147.365</td>\n",
       "      <td>17.178</td>\n",
       "      <td>6.042</td>\n",
       "      <td>3.704</td>\n",
       "      <td>1.402</td>\n",
       "      <td>0.500</td>\n",
       "    </tr>\n",
       "    <tr>\n",
       "      <th>min</th>\n",
       "      <td>4.000</td>\n",
       "      <td>10310.000</td>\n",
       "      <td>21.000</td>\n",
       "      <td>0.000</td>\n",
       "      <td>0.000</td>\n",
       "      <td>10.000</td>\n",
       "      <td>0.000</td>\n",
       "    </tr>\n",
       "    <tr>\n",
       "      <th>25%</th>\n",
       "      <td>61939.250</td>\n",
       "      <td>2467337.250</td>\n",
       "      <td>34.000</td>\n",
       "      <td>5.000</td>\n",
       "      <td>3.000</td>\n",
       "      <td>11.000</td>\n",
       "      <td>0.000</td>\n",
       "    </tr>\n",
       "    <tr>\n",
       "      <th>50%</th>\n",
       "      <td>129437.500</td>\n",
       "      <td>4977116.000</td>\n",
       "      <td>49.000</td>\n",
       "      <td>10.000</td>\n",
       "      <td>6.000</td>\n",
       "      <td>12.000</td>\n",
       "      <td>0.500</td>\n",
       "    </tr>\n",
       "    <tr>\n",
       "      <th>75%</th>\n",
       "      <td>199396.250</td>\n",
       "      <td>7520737.250</td>\n",
       "      <td>64.000</td>\n",
       "      <td>15.000</td>\n",
       "      <td>9.000</td>\n",
       "      <td>13.000</td>\n",
       "      <td>1.000</td>\n",
       "    </tr>\n",
       "    <tr>\n",
       "      <th>max</th>\n",
       "      <td>252000.000</td>\n",
       "      <td>9999180.000</td>\n",
       "      <td>79.000</td>\n",
       "      <td>20.000</td>\n",
       "      <td>14.000</td>\n",
       "      <td>14.000</td>\n",
       "      <td>1.000</td>\n",
       "    </tr>\n",
       "  </tbody>\n",
       "</table>\n",
       "</div>"
      ],
      "text/plain": [
       "              id      income       age  experience  current_job_yrs  \\\n",
       "count  61992.000   61992.000 61992.000   61992.000        61992.000   \n",
       "mean  128998.208 4990145.477    49.488       9.840            6.277   \n",
       "std    76258.299 2897147.365    17.178       6.042            3.704   \n",
       "min        4.000   10310.000    21.000       0.000            0.000   \n",
       "25%    61939.250 2467337.250    34.000       5.000            3.000   \n",
       "50%   129437.500 4977116.000    49.000      10.000            6.000   \n",
       "75%   199396.250 7520737.250    64.000      15.000            9.000   \n",
       "max   252000.000 9999180.000    79.000      20.000           14.000   \n",
       "\n",
       "       current_house_yrs  risk_flag  \n",
       "count          61992.000  61992.000  \n",
       "mean              11.994      0.500  \n",
       "std                1.402      0.500  \n",
       "min               10.000      0.000  \n",
       "25%               11.000      0.000  \n",
       "50%               12.000      0.500  \n",
       "75%               13.000      1.000  \n",
       "max               14.000      1.000  "
      ]
     },
     "execution_count": 22,
     "metadata": {},
     "output_type": "execute_result"
    }
   ],
   "source": [
    "# Get information on \n",
    "df_loan.describe()"
   ]
  },
  {
   "cell_type": "code",
   "execution_count": 23,
   "id": "523d653c",
   "metadata": {
    "scrolled": false
   },
   "outputs": [
    {
     "data": {
      "image/png": "[encoded data removed]",
      "text/plain": [
       "<Figure size 1008x432 with 2 Axes>"
      ]
     },
     "metadata": {
      "needs_background": "light"
     },
     "output_type": "display_data"
    }
   ],
   "source": [
    "# Create a heatmap for comparison to target variable\n",
    "# Each square shows the correlation between the variables on each axis\n",
    "# Values closer to zero indicate that there is no linear trend between the variables\n",
    "# The closer to 1 the correlation is the more positively correlated they are\n",
    "import matplotlib.pyplot as plt\n",
    "M_correlation = plt.figure(figsize = (14, 6))\n",
    "ax = sns.heatmap(df_loan.corr(),annot=True); \n",
    "ax.set(xlabel=\"\", ylabel=\"\")\n",
    "ax.xaxis.tick_top()"
   ]
  },
  {
   "cell_type": "markdown",
   "id": "9bed0f36",
   "metadata": {},
   "source": [
    "The heatmap shows that \"income\", \"age\", \"experience\", \"current_job_yrs\" and \"current_house_yrs\" are highly correlated with our target variable."
   ]
  },
  {
   "cell_type": "markdown",
   "id": "732ebee1",
   "metadata": {},
   "source": [
    "### Get Statistics on Categorical Variables"
   ]
  },
  {
   "cell_type": "code",
   "execution_count": 24,
   "id": "6370ed1e",
   "metadata": {},
   "outputs": [
    {
     "data": {
      "text/html": [
       "<div>\n",
       "<style scoped>\n",
       "    .dataframe tbody tr th:only-of-type {\n",
       "        vertical-align: middle;\n",
       "    }\n",
       "\n",
       "    .dataframe tbody tr th {\n",
       "        vertical-align: top;\n",
       "    }\n",
       "\n",
       "    .dataframe thead th {\n",
       "        text-align: right;\n",
       "    }\n",
       "</style>\n",
       "<table border=\"1\" class=\"dataframe\">\n",
       "  <thead>\n",
       "    <tr style=\"text-align: right;\">\n",
       "      <th>profession</th>\n",
       "      <th>Drafter</th>\n",
       "      <th>Secretary</th>\n",
       "      <th>Computer_hardware_engineer</th>\n",
       "      <th>Biomedical_Engineer</th>\n",
       "      <th>Hotel_Manager</th>\n",
       "      <th>Analyst</th>\n",
       "      <th>Civil_engineer</th>\n",
       "      <th>Official</th>\n",
       "      <th>Geologist</th>\n",
       "      <th>Financial_Analyst</th>\n",
       "      <th>...</th>\n",
       "      <th>Civil_servant</th>\n",
       "      <th>Chef</th>\n",
       "      <th>Aviator</th>\n",
       "      <th>Graphic_Designer</th>\n",
       "      <th>Petroleum_Engineer</th>\n",
       "      <th>Chartered_Accountant</th>\n",
       "      <th>Chemical_engineer</th>\n",
       "      <th>Design_Engineer</th>\n",
       "      <th>Librarian</th>\n",
       "      <th>Surgeon</th>\n",
       "    </tr>\n",
       "  </thead>\n",
       "  <tbody>\n",
       "    <tr>\n",
       "      <th>min</th>\n",
       "      <td>64805.000</td>\n",
       "      <td>143036.000</td>\n",
       "      <td>13357.000</td>\n",
       "      <td>51974.000</td>\n",
       "      <td>17801.000</td>\n",
       "      <td>91459.000</td>\n",
       "      <td>48245.000</td>\n",
       "      <td>216875.000</td>\n",
       "      <td>62100.000</td>\n",
       "      <td>80183.000</td>\n",
       "      <td>...</td>\n",
       "      <td>11430.000</td>\n",
       "      <td>15016.000</td>\n",
       "      <td>98725.000</td>\n",
       "      <td>10675.000</td>\n",
       "      <td>80603.000</td>\n",
       "      <td>23621.000</td>\n",
       "      <td>26926.000</td>\n",
       "      <td>53886.000</td>\n",
       "      <td>59715.000</td>\n",
       "      <td>18215.000</td>\n",
       "    </tr>\n",
       "    <tr>\n",
       "      <th>max</th>\n",
       "      <td>9999180.000</td>\n",
       "      <td>9998070.000</td>\n",
       "      <td>9994501.000</td>\n",
       "      <td>9993989.000</td>\n",
       "      <td>9992692.000</td>\n",
       "      <td>9992133.000</td>\n",
       "      <td>9992098.000</td>\n",
       "      <td>9991569.000</td>\n",
       "      <td>9991298.000</td>\n",
       "      <td>9990776.000</td>\n",
       "      <td>...</td>\n",
       "      <td>9938741.000</td>\n",
       "      <td>9935369.000</td>\n",
       "      <td>9935192.000</td>\n",
       "      <td>9935166.000</td>\n",
       "      <td>9933264.000</td>\n",
       "      <td>9926354.000</td>\n",
       "      <td>9914171.000</td>\n",
       "      <td>9913743.000</td>\n",
       "      <td>9908353.000</td>\n",
       "      <td>9906039.000</td>\n",
       "    </tr>\n",
       "    <tr>\n",
       "      <th>mean</th>\n",
       "      <td>4336224.192</td>\n",
       "      <td>5412463.729</td>\n",
       "      <td>5286197.039</td>\n",
       "      <td>5233547.188</td>\n",
       "      <td>4899360.293</td>\n",
       "      <td>4788868.305</td>\n",
       "      <td>5090677.677</td>\n",
       "      <td>4717322.235</td>\n",
       "      <td>4791973.406</td>\n",
       "      <td>4794597.918</td>\n",
       "      <td>...</td>\n",
       "      <td>4707937.469</td>\n",
       "      <td>5171501.265</td>\n",
       "      <td>5048814.155</td>\n",
       "      <td>4644798.334</td>\n",
       "      <td>5439407.091</td>\n",
       "      <td>5219596.748</td>\n",
       "      <td>5532276.575</td>\n",
       "      <td>4613048.609</td>\n",
       "      <td>4989289.639</td>\n",
       "      <td>5228233.167</td>\n",
       "    </tr>\n",
       "  </tbody>\n",
       "</table>\n",
       "<p>3 rows × 51 columns</p>\n",
       "</div>"
      ],
      "text/plain": [
       "profession     Drafter   Secretary  Computer_hardware_engineer  \\\n",
       "min          64805.000  143036.000                   13357.000   \n",
       "max        9999180.000 9998070.000                 9994501.000   \n",
       "mean       4336224.192 5412463.729                 5286197.039   \n",
       "\n",
       "profession  Biomedical_Engineer  Hotel_Manager     Analyst  Civil_engineer  \\\n",
       "min                   51974.000      17801.000   91459.000       48245.000   \n",
       "max                 9993989.000    9992692.000 9992133.000     9992098.000   \n",
       "mean                5233547.188    4899360.293 4788868.305     5090677.677   \n",
       "\n",
       "profession    Official   Geologist  Financial_Analyst  ...  Civil_servant  \\\n",
       "min         216875.000   62100.000          80183.000  ...      11430.000   \n",
       "max        9991569.000 9991298.000        9990776.000  ...    9938741.000   \n",
       "mean       4717322.235 4791973.406        4794597.918  ...    4707937.469   \n",
       "\n",
       "profession        Chef     Aviator  Graphic_Designer  Petroleum_Engineer  \\\n",
       "min          15016.000   98725.000         10675.000           80603.000   \n",
       "max        9935369.000 9935192.000       9935166.000         9933264.000   \n",
       "mean       5171501.265 5048814.155       4644798.334         5439407.091   \n",
       "\n",
       "profession  Chartered_Accountant  Chemical_engineer  Design_Engineer  \\\n",
       "min                    23621.000          26926.000        53886.000   \n",
       "max                  9926354.000        9914171.000      9913743.000   \n",
       "mean                 5219596.748        5532276.575      4613048.609   \n",
       "\n",
       "profession   Librarian     Surgeon  \n",
       "min          59715.000   18215.000  \n",
       "max        9908353.000 9906039.000  \n",
       "mean       4989289.639 5228233.167  \n",
       "\n",
       "[3 rows x 51 columns]"
      ]
     },
     "execution_count": 24,
     "metadata": {},
     "output_type": "execute_result"
    }
   ],
   "source": [
    "# Group profession by income\n",
    "# Determine min, max, and mean\n",
    "df_loan.groupby(\"profession\")[\"income\"].agg([\"min\", \"max\", \"mean\"]).sort_values(by=\"max\", ascending=False).T"
   ]
  },
  {
   "cell_type": "code",
   "execution_count": 25,
   "id": "523992b4",
   "metadata": {},
   "outputs": [
    {
     "data": {
      "text/html": [
       "<div>\n",
       "<style scoped>\n",
       "    .dataframe tbody tr th:only-of-type {\n",
       "        vertical-align: middle;\n",
       "    }\n",
       "\n",
       "    .dataframe tbody tr th {\n",
       "        vertical-align: top;\n",
       "    }\n",
       "\n",
       "    .dataframe thead th {\n",
       "        text-align: right;\n",
       "    }\n",
       "</style>\n",
       "<table border=\"1\" class=\"dataframe\">\n",
       "  <thead>\n",
       "    <tr style=\"text-align: right;\">\n",
       "      <th>city</th>\n",
       "      <th>Bhubaneswar</th>\n",
       "      <th>Bettiah</th>\n",
       "      <th>Gwalior</th>\n",
       "      <th>Kottayam</th>\n",
       "      <th>Raiganj</th>\n",
       "      <th>Barasat</th>\n",
       "      <th>Purnia</th>\n",
       "      <th>Kochi</th>\n",
       "      <th>Bardhaman</th>\n",
       "      <th>Buxar</th>\n",
       "      <th>...</th>\n",
       "      <th>Rajpur</th>\n",
       "      <th>Mehsana</th>\n",
       "      <th>Latur</th>\n",
       "      <th>Berhampur</th>\n",
       "      <th>Sultan</th>\n",
       "      <th>Belgaum</th>\n",
       "      <th>Bangalore</th>\n",
       "      <th>Bijapur</th>\n",
       "      <th>Dehradun</th>\n",
       "      <th>Gandhinagar</th>\n",
       "    </tr>\n",
       "  </thead>\n",
       "  <tbody>\n",
       "    <tr>\n",
       "      <th>risk_flag</th>\n",
       "      <td>75.862</td>\n",
       "      <td>74.847</td>\n",
       "      <td>74.009</td>\n",
       "      <td>70.930</td>\n",
       "      <td>70.492</td>\n",
       "      <td>70.068</td>\n",
       "      <td>69.822</td>\n",
       "      <td>69.628</td>\n",
       "      <td>68.636</td>\n",
       "      <td>67.456</td>\n",
       "      <td>...</td>\n",
       "      <td>24.390</td>\n",
       "      <td>23.944</td>\n",
       "      <td>23.232</td>\n",
       "      <td>22.807</td>\n",
       "      <td>22.785</td>\n",
       "      <td>22.148</td>\n",
       "      <td>21.951</td>\n",
       "      <td>18.692</td>\n",
       "      <td>16.667</td>\n",
       "      <td>14.783</td>\n",
       "    </tr>\n",
       "  </tbody>\n",
       "</table>\n",
       "<p>1 rows × 316 columns</p>\n",
       "</div>"
      ],
      "text/plain": [
       "city       Bhubaneswar  Bettiah  Gwalior  Kottayam  Raiganj  Barasat  Purnia  \\\n",
       "risk_flag       75.862   74.847   74.009    70.930   70.492   70.068  69.822   \n",
       "\n",
       "city       Kochi  Bardhaman  Buxar  ...  Rajpur  Mehsana  Latur  Berhampur  \\\n",
       "risk_flag 69.628     68.636 67.456  ...  24.390   23.944 23.232     22.807   \n",
       "\n",
       "city       Sultan  Belgaum  Bangalore  Bijapur  Dehradun  Gandhinagar  \n",
       "risk_flag  22.785   22.148     21.951   18.692    16.667       14.783  \n",
       "\n",
       "[1 rows x 316 columns]"
      ]
     },
     "execution_count": 25,
     "metadata": {},
     "output_type": "execute_result"
    }
   ],
   "source": [
    "# The average risk percentage of each city\n",
    "df_loan.groupby([\"city\"]).risk_flag.apply(lambda x: (x.sum() / x.size) * 100).sort_values(ascending=False).to_frame().T"
   ]
  },
  {
   "cell_type": "code",
   "execution_count": 26,
   "id": "cc8e26a5",
   "metadata": {},
   "outputs": [
    {
     "data": {
      "text/html": [
       "<div>\n",
       "<style scoped>\n",
       "    .dataframe tbody tr th:only-of-type {\n",
       "        vertical-align: middle;\n",
       "    }\n",
       "\n",
       "    .dataframe tbody tr th {\n",
       "        vertical-align: top;\n",
       "    }\n",
       "\n",
       "    .dataframe thead th {\n",
       "        text-align: right;\n",
       "    }\n",
       "</style>\n",
       "<table border=\"1\" class=\"dataframe\">\n",
       "  <thead>\n",
       "    <tr style=\"text-align: right;\">\n",
       "      <th>state</th>\n",
       "      <th>Manipur</th>\n",
       "      <th>Tripura</th>\n",
       "      <th>Kerala</th>\n",
       "      <th>Jammu</th>\n",
       "      <th>Madhya</th>\n",
       "      <th>Odisha</th>\n",
       "      <th>Rajasthan</th>\n",
       "      <th>Chhattisgarh</th>\n",
       "      <th>Assam</th>\n",
       "      <th>Jharkhand</th>\n",
       "      <th>...</th>\n",
       "      <th>Andhra</th>\n",
       "      <th>Mizoram</th>\n",
       "      <th>Puducherry</th>\n",
       "      <th>Delhi</th>\n",
       "      <th>Tamil</th>\n",
       "      <th>Karnataka</th>\n",
       "      <th>Chandigarh</th>\n",
       "      <th>Punjab</th>\n",
       "      <th>Uttarakhand</th>\n",
       "      <th>Sikkim</th>\n",
       "    </tr>\n",
       "  </thead>\n",
       "  <tbody>\n",
       "    <tr>\n",
       "      <th>risk_flag</th>\n",
       "      <td>64.437</td>\n",
       "      <td>59.130</td>\n",
       "      <td>58.859</td>\n",
       "      <td>57.873</td>\n",
       "      <td>56.316</td>\n",
       "      <td>54.116</td>\n",
       "      <td>53.811</td>\n",
       "      <td>52.464</td>\n",
       "      <td>52.218</td>\n",
       "      <td>52.183</td>\n",
       "      <td>...</td>\n",
       "      <td>47.840</td>\n",
       "      <td>47.475</td>\n",
       "      <td>47.042</td>\n",
       "      <td>46.781</td>\n",
       "      <td>45.786</td>\n",
       "      <td>44.053</td>\n",
       "      <td>41.781</td>\n",
       "      <td>41.103</td>\n",
       "      <td>36.141</td>\n",
       "      <td>25.926</td>\n",
       "    </tr>\n",
       "  </tbody>\n",
       "</table>\n",
       "<p>1 rows × 28 columns</p>\n",
       "</div>"
      ],
      "text/plain": [
       "state      Manipur  Tripura  Kerala  Jammu  Madhya  Odisha  Rajasthan  \\\n",
       "risk_flag   64.437   59.130  58.859 57.873  56.316  54.116     53.811   \n",
       "\n",
       "state      Chhattisgarh  Assam  Jharkhand  ...  Andhra  Mizoram  Puducherry  \\\n",
       "risk_flag        52.464 52.218     52.183  ...  47.840   47.475      47.042   \n",
       "\n",
       "state      Delhi  Tamil  Karnataka  Chandigarh  Punjab  Uttarakhand  Sikkim  \n",
       "risk_flag 46.781 45.786     44.053      41.781  41.103       36.141  25.926  \n",
       "\n",
       "[1 rows x 28 columns]"
      ]
     },
     "execution_count": 26,
     "metadata": {},
     "output_type": "execute_result"
    }
   ],
   "source": [
    "# The average risk percentage of each state\n",
    "df_loan.groupby(\"state\").risk_flag.apply(lambda x: (x.sum() / x.size) * 100).sort_values(ascending=False).to_frame().T"
   ]
  },
  {
   "cell_type": "code",
   "execution_count": 27,
   "id": "f44748fd",
   "metadata": {
    "scrolled": true
   },
   "outputs": [
    {
     "data": {
      "text/html": [
       "<div>\n",
       "<style scoped>\n",
       "    .dataframe tbody tr th:only-of-type {\n",
       "        vertical-align: middle;\n",
       "    }\n",
       "\n",
       "    .dataframe tbody tr th {\n",
       "        vertical-align: top;\n",
       "    }\n",
       "\n",
       "    .dataframe thead th {\n",
       "        text-align: right;\n",
       "    }\n",
       "</style>\n",
       "<table border=\"1\" class=\"dataframe\">\n",
       "  <thead>\n",
       "    <tr style=\"text-align: right;\">\n",
       "      <th>profession</th>\n",
       "      <th>Police_officer</th>\n",
       "      <th>Chartered_Accountant</th>\n",
       "      <th>Army_officer</th>\n",
       "      <th>Surveyor</th>\n",
       "      <th>Software_Developer</th>\n",
       "      <th>Civil_engineer</th>\n",
       "      <th>Air_traffic_controller</th>\n",
       "      <th>Scientist</th>\n",
       "      <th>Hotel_Manager</th>\n",
       "      <th>Geologist</th>\n",
       "      <th>...</th>\n",
       "      <th>Surgeon</th>\n",
       "      <th>Chemical_engineer</th>\n",
       "      <th>Politician</th>\n",
       "      <th>Design_Engineer</th>\n",
       "      <th>Financial_Analyst</th>\n",
       "      <th>Web_designer</th>\n",
       "      <th>Industrial_Engineer</th>\n",
       "      <th>Economist</th>\n",
       "      <th>Technology_specialist</th>\n",
       "      <th>Petroleum_Engineer</th>\n",
       "    </tr>\n",
       "  </thead>\n",
       "  <tbody>\n",
       "    <tr>\n",
       "      <th>risk_flag</th>\n",
       "      <td>59.467</td>\n",
       "      <td>57.261</td>\n",
       "      <td>56.047</td>\n",
       "      <td>55.738</td>\n",
       "      <td>55.026</td>\n",
       "      <td>54.333</td>\n",
       "      <td>53.318</td>\n",
       "      <td>53.282</td>\n",
       "      <td>52.906</td>\n",
       "      <td>52.821</td>\n",
       "      <td>...</td>\n",
       "      <td>46.537</td>\n",
       "      <td>46.369</td>\n",
       "      <td>46.058</td>\n",
       "      <td>46.042</td>\n",
       "      <td>45.790</td>\n",
       "      <td>45.588</td>\n",
       "      <td>44.617</td>\n",
       "      <td>43.738</td>\n",
       "      <td>40.292</td>\n",
       "      <td>40.206</td>\n",
       "    </tr>\n",
       "  </tbody>\n",
       "</table>\n",
       "<p>1 rows × 51 columns</p>\n",
       "</div>"
      ],
      "text/plain": [
       "profession  Police_officer  Chartered_Accountant  Army_officer  Surveyor  \\\n",
       "risk_flag           59.467                57.261        56.047    55.738   \n",
       "\n",
       "profession  Software_Developer  Civil_engineer  Air_traffic_controller  \\\n",
       "risk_flag               55.026          54.333                  53.318   \n",
       "\n",
       "profession  Scientist  Hotel_Manager  Geologist  ...  Surgeon  \\\n",
       "risk_flag      53.282         52.906     52.821  ...   46.537   \n",
       "\n",
       "profession  Chemical_engineer  Politician  Design_Engineer  Financial_Analyst  \\\n",
       "risk_flag              46.369      46.058           46.042             45.790   \n",
       "\n",
       "profession  Web_designer  Industrial_Engineer  Economist  \\\n",
       "risk_flag         45.588               44.617     43.738   \n",
       "\n",
       "profession  Technology_specialist  Petroleum_Engineer  \n",
       "risk_flag                  40.292              40.206  \n",
       "\n",
       "[1 rows x 51 columns]"
      ]
     },
     "execution_count": 27,
     "metadata": {},
     "output_type": "execute_result"
    }
   ],
   "source": [
    "# The average risk percentage of each profession\n",
    "df_loan.groupby(\"profession\").risk_flag.apply(lambda x: (x.sum() / x.size) * 100).sort_values(ascending=False).to_frame().T"
   ]
  },
  {
   "cell_type": "code",
   "execution_count": 28,
   "id": "73a0b339",
   "metadata": {
    "scrolled": true
   },
   "outputs": [
    {
     "data": {
      "image/png": "[encoded data removed]",
      "text/plain": [
       "<Figure size 432x288 with 1 Axes>"
      ]
     },
     "metadata": {},
     "output_type": "display_data"
    }
   ],
   "source": [
    "#Visualize the top 5 most common professions in a pie chart\n",
    "top_states = df_loan.profession.value_counts()\n",
    "top_states[:5].plot(kind='pie')\n",
    "plt.xlabel('Most Common Professions');"
   ]
  },
  {
   "cell_type": "code",
   "execution_count": 29,
   "id": "d59638fc",
   "metadata": {},
   "outputs": [],
   "source": [
    "# Build a function to visualize categorical data\n",
    "def count_pie_plot(datapie, datacount, colpiey, colcount, text1, text2, piecomap,\n",
    "                   xlabel, ylabel, xticklabel, yticklabel, ystart, yend, pielabels, yplus, \n",
    "                   piefs=10, countcomap=None, pctdistance=0.65, fontsize=15, xtickrotation=None):\n",
    "\n",
    "    # Subplots\n",
    "    fig, (ax1, ax2) = plt.subplots(ncols=2, \n",
    "                                   nrows=1, \n",
    "                                   facecolor=(\"#FFFFFF\"),\n",
    "                                   figsize=(24, 8))\n",
    "    datapie.plot(kind=\"pie\", \n",
    "                 y=colpiey,\n",
    "                 autopct='%1.1f%%',\n",
    "                 labels=None,\n",
    "                 startangle=90,\n",
    "                 colors=piecomap,\n",
    "                 wedgeprops=dict(width=0.15),\n",
    "                 pctdistance=pctdistance,\n",
    "                 fontsize=piefs,\n",
    "                 ax=ax1,\n",
    "                 textprops=dict(color=\"black\", \n",
    "                                weight=\"bold\"))\n",
    "    sns.countplot(x=colcount,\n",
    "                  data=datacount,\n",
    "                  palette=countcomap,\n",
    "                  ax=ax2)\n"
   ]
  },
  {
   "cell_type": "code",
   "execution_count": 30,
   "id": "0d39f62a",
   "metadata": {
    "scrolled": true
   },
   "outputs": [
    {
     "data": {
      "image/png": "[encoded data removed]",
      "text/plain": [
       "<Figure size 1728x576 with 2 Axes>"
      ]
     },
     "metadata": {},
     "output_type": "display_data"
    }
   ],
   "source": [
    "loan_house_ownership = df_loan[\"house_ownership\"].value_counts()\n",
    "\n",
    "count_pie_plot(datapie=loan_house_ownership,\n",
    "               datacount=df_loan,\n",
    "               colcount=\"house_ownership\",\n",
    "               colpiey=loan_house_ownership.values,\n",
    "               text1=\"House Ownership\",\n",
    "               pielabels=[\"Rented\", \"Owned\", \"No rent No own\"],\n",
    "               text2=\"What customer house status?\",\n",
    "               piecomap=[\"#E0144C\", \"#3AB0FF\", \"#FF5858\"],\n",
    "               countcomap=[\"#E0144C\", \"#FF5858\", \"#3AB0FF\"],\n",
    "               xlabel=\"Married Single\",\n",
    "               piefs=10,\n",
    "               yplus=5000,\n",
    "               pctdistance=0.7,\n",
    "               ylabel=\"Count of Observations\",\n",
    "               xticklabel=[\"Rented\", \"No rent No own\", \"Owned\"],\n",
    "               yticklabel=list(np.arange(0, 260000, 50000)),\n",
    "               ystart=0,\n",
    "               yend=250000);"
   ]
  },
  {
   "cell_type": "code",
   "execution_count": 31,
   "id": "9c2bafb3",
   "metadata": {
    "scrolled": true
   },
   "outputs": [
    {
     "data": {
      "image/png": "[encoded data removed]",
      "text/plain": [
       "<Figure size 1728x576 with 2 Axes>"
      ]
     },
     "metadata": {},
     "output_type": "display_data"
    }
   ],
   "source": [
    "loan_car_ownership = df_loan[\"car_ownership\"].value_counts()\n",
    "\n",
    "count_pie_plot(datapie=loan_car_ownership,\n",
    "               datacount=df_loan,\n",
    "               colcount=\"car_ownership\",\n",
    "               colpiey=loan_car_ownership.values,\n",
    "               text1=\"Car Ownership\",\n",
    "               pielabels=[\"No\", \"Yes\"],\n",
    "               text2=\"Does customer owned a car?\",\n",
    "               piecomap=[\"#001253\", \"#FF5858\"],\n",
    "               countcomap=[\"#001253\", \"#FF5858\"],\n",
    "               xlabel=\"Car Ownership\",\n",
    "               piefs=15,\n",
    "               yplus=5000,\n",
    "               ylabel=\"Count of Observations\",\n",
    "               xticklabel=[\"No\", \"Yes\"],\n",
    "               yticklabel=list(np.arange(0, 225000, 25000)),\n",
    "               ystart=0,\n",
    "               yend=200000);"
   ]
  },
  {
   "cell_type": "code",
   "execution_count": 32,
   "id": "fb3d9f9b",
   "metadata": {
    "scrolled": true
   },
   "outputs": [
    {
     "data": {
      "image/png": "[encoded data removed]",
      "text/plain": [
       "<Figure size 1728x576 with 2 Axes>"
      ]
     },
     "metadata": {},
     "output_type": "display_data"
    }
   ],
   "source": [
    "\n",
    "loan_married_single = df_loan[\"married_single\"].value_counts()\n",
    "\n",
    "count_pie_plot(datapie=loan_married_single,\n",
    "               datacount=df_loan,\n",
    "               colcount=\"married_single\",\n",
    "               colpiey=loan_married_single.values,\n",
    "               text1=\"Married or Single\",\n",
    "               pielabels=[\"Single\", \"Married\"],\n",
    "               text2=\"Are you Married or Single?\",\n",
    "               piecomap=[\"#001253\", \"#FF5858\"],\n",
    "               countcomap=[\"#001253\", \"#FF5858\"],\n",
    "               xlabel=\"Married Single\",\n",
    "               piefs=15,\n",
    "               yplus=5000,\n",
    "               ylabel=\"Count of Observations\",\n",
    "               xticklabel=[\"Single\", \"Married\"],\n",
    "               yticklabel=list(np.arange(0, 260000, 50000)),\n",
    "               ystart=0,\n",
    "               yend=250000);"
   ]
  },
  {
   "cell_type": "markdown",
   "id": "7b736058",
   "metadata": {},
   "source": [
    "Categorical Takeaways:\n",
    "    \n",
    "* Most common professions: physician, psychologist, computer engineer, police office, statitiscian\n",
    "   \n",
    "* Most borrowers are single\n",
    "    \n",
    "* Most borrowers do not own a home\n",
    "    \n",
    "* Most borrowers do not own a car"
   ]
  },
  {
   "cell_type": "markdown",
   "id": "facf7fee",
   "metadata": {},
   "source": [
    "### Get Statistics on Numerical Variables"
   ]
  },
  {
   "cell_type": "code",
   "execution_count": 33,
   "id": "bae631ff",
   "metadata": {
    "scrolled": true
   },
   "outputs": [
    {
     "data": {
      "text/plain": [
       "<matplotlib.axes._subplots.AxesSubplot at 0x7ff5196a7940>"
      ]
     },
     "execution_count": 33,
     "metadata": {},
     "output_type": "execute_result"
    },
    {
     "data": {
      "image/png": "[encoded data removed]",
      "text/plain": [
       "<Figure size 720x576 with 1 Axes>"
      ]
     },
     "metadata": {
      "needs_background": "light"
     },
     "output_type": "display_data"
    }
   ],
   "source": [
    "# Visualize age totals\n",
    "plt.subplots(figsize=(10,8))\n",
    "color=['#e377c2', '#7f7f7f']\n",
    "plt.xlabel('Age')\n",
    "df_loan['age'].value_counts().plot(kind='bar',color=color)"
   ]
  },
  {
   "cell_type": "code",
   "execution_count": 34,
   "id": "d61b3a18",
   "metadata": {
    "scrolled": true
   },
   "outputs": [
    {
     "data": {
      "text/plain": [
       "<matplotlib.axes._subplots.AxesSubplot at 0x7ff510614908>"
      ]
     },
     "execution_count": 34,
     "metadata": {},
     "output_type": "execute_result"
    },
    {
     "data": {
      "image/png": "[encoded data removed]",
      "text/plain": [
       "<Figure size 720x576 with 1 Axes>"
      ]
     },
     "metadata": {
      "needs_background": "light"
     },
     "output_type": "display_data"
    }
   ],
   "source": [
    "# Visualize experience totals\n",
    "plt.subplots(figsize=(10,8))\n",
    "color=['#e377c2', '#7f7f7f']\n",
    "plt.xlabel('Experience')\n",
    "df_loan['experience'].value_counts().plot(kind='bar',color=color)"
   ]
  },
  {
   "cell_type": "code",
   "execution_count": 35,
   "id": "1ccf4a0d",
   "metadata": {},
   "outputs": [
    {
     "data": {
      "text/plain": [
       "<matplotlib.axes._subplots.AxesSubplot at 0x7ff5107bff60>"
      ]
     },
     "execution_count": 35,
     "metadata": {},
     "output_type": "execute_result"
    },
    {
     "data": {
      "image/png": "[encoded data removed]",
      "text/plain": [
       "<Figure size 720x576 with 1 Axes>"
      ]
     },
     "metadata": {
      "needs_background": "light"
     },
     "output_type": "display_data"
    }
   ],
   "source": [
    "# Visualize current house years totals\n",
    "plt.subplots(figsize=(10,8))\n",
    "color=['#e377c2', '#7f7f7f']\n",
    "plt.xlabel('Years Spent in Current Residence')\n",
    "df_loan['current_house_yrs'].value_counts().plot(kind='bar',color=color)"
   ]
  },
  {
   "cell_type": "code",
   "execution_count": 36,
   "id": "7e558415",
   "metadata": {
    "scrolled": true
   },
   "outputs": [
    {
     "data": {
      "text/plain": [
       "<matplotlib.axes._subplots.AxesSubplot at 0x7ff51086d358>"
      ]
     },
     "execution_count": 36,
     "metadata": {},
     "output_type": "execute_result"
    },
    {
     "data": {
      "image/png": "[encoded data removed]",
      "text/plain": [
       "<Figure size 720x576 with 1 Axes>"
      ]
     },
     "metadata": {
      "needs_background": "light"
     },
     "output_type": "display_data"
    }
   ],
   "source": [
    "# Visualize current job years totals\n",
    "plt.subplots(figsize=(10,8))\n",
    "color=['#e377c2', '#7f7f7f']\n",
    "plt.xlabel('Years Spent at Current Job')\n",
    "df_loan['current_job_yrs'].value_counts().plot(kind='bar',color=color)"
   ]
  },
  {
   "cell_type": "markdown",
   "id": "521a9c4f",
   "metadata": {},
   "source": [
    "Numerical Takeaways:\n",
    "\n",
    "* Most borrowers have been in at thier current job between 3 and 10 years\n",
    "    \n",
    "* The years borrowers have spent in their current residence is evenly spaced between 11 and 14 years\n",
    "    \n",
    "* The age of borrowers ranges from early twenties to early seventies"
   ]
  },
  {
   "cell_type": "markdown",
   "id": "d0652ca4",
   "metadata": {},
   "source": [
    "## Modeling\n",
    "* Perform a train-test split\n",
    "* Build and tune classifiers\n",
    "* Evaluate each classifier to determine best fit"
   ]
  },
  {
   "cell_type": "code",
   "execution_count": 37,
   "id": "f4cbab5f",
   "metadata": {},
   "outputs": [
    {
     "data": {
      "text/html": [
       "<div>\n",
       "<style scoped>\n",
       "    .dataframe tbody tr th:only-of-type {\n",
       "        vertical-align: middle;\n",
       "    }\n",
       "\n",
       "    .dataframe tbody tr th {\n",
       "        vertical-align: top;\n",
       "    }\n",
       "\n",
       "    .dataframe thead th {\n",
       "        text-align: right;\n",
       "    }\n",
       "</style>\n",
       "<table border=\"1\" class=\"dataframe\">\n",
       "  <thead>\n",
       "    <tr style=\"text-align: right;\">\n",
       "      <th></th>\n",
       "      <th>married_single_married</th>\n",
       "      <th>married_single_single</th>\n",
       "      <th>house_ownership_norent_noown</th>\n",
       "      <th>house_ownership_owned</th>\n",
       "      <th>house_ownership_rented</th>\n",
       "      <th>car_ownership_no</th>\n",
       "      <th>car_ownership_yes</th>\n",
       "      <th>profession_Air_traffic_controller</th>\n",
       "      <th>profession_Analyst</th>\n",
       "      <th>profession_Architect</th>\n",
       "      <th>...</th>\n",
       "      <th>profession_Scientist</th>\n",
       "      <th>profession_Secretary</th>\n",
       "      <th>profession_Software_Developer</th>\n",
       "      <th>profession_Statistician</th>\n",
       "      <th>profession_Surgeon</th>\n",
       "      <th>profession_Surveyor</th>\n",
       "      <th>profession_Technical_writer</th>\n",
       "      <th>profession_Technician</th>\n",
       "      <th>profession_Technology_specialist</th>\n",
       "      <th>profession_Web_designer</th>\n",
       "    </tr>\n",
       "  </thead>\n",
       "  <tbody>\n",
       "    <tr>\n",
       "      <th>13812</th>\n",
       "      <td>0</td>\n",
       "      <td>1</td>\n",
       "      <td>0</td>\n",
       "      <td>0</td>\n",
       "      <td>1</td>\n",
       "      <td>0</td>\n",
       "      <td>1</td>\n",
       "      <td>0</td>\n",
       "      <td>0</td>\n",
       "      <td>0</td>\n",
       "      <td>...</td>\n",
       "      <td>0</td>\n",
       "      <td>0</td>\n",
       "      <td>0</td>\n",
       "      <td>0</td>\n",
       "      <td>1</td>\n",
       "      <td>0</td>\n",
       "      <td>0</td>\n",
       "      <td>0</td>\n",
       "      <td>0</td>\n",
       "      <td>0</td>\n",
       "    </tr>\n",
       "    <tr>\n",
       "      <th>125840</th>\n",
       "      <td>0</td>\n",
       "      <td>1</td>\n",
       "      <td>0</td>\n",
       "      <td>0</td>\n",
       "      <td>1</td>\n",
       "      <td>1</td>\n",
       "      <td>0</td>\n",
       "      <td>0</td>\n",
       "      <td>0</td>\n",
       "      <td>0</td>\n",
       "      <td>...</td>\n",
       "      <td>0</td>\n",
       "      <td>0</td>\n",
       "      <td>0</td>\n",
       "      <td>0</td>\n",
       "      <td>0</td>\n",
       "      <td>0</td>\n",
       "      <td>0</td>\n",
       "      <td>0</td>\n",
       "      <td>0</td>\n",
       "      <td>0</td>\n",
       "    </tr>\n",
       "    <tr>\n",
       "      <th>155790</th>\n",
       "      <td>0</td>\n",
       "      <td>1</td>\n",
       "      <td>0</td>\n",
       "      <td>0</td>\n",
       "      <td>1</td>\n",
       "      <td>1</td>\n",
       "      <td>0</td>\n",
       "      <td>0</td>\n",
       "      <td>0</td>\n",
       "      <td>0</td>\n",
       "      <td>...</td>\n",
       "      <td>0</td>\n",
       "      <td>0</td>\n",
       "      <td>0</td>\n",
       "      <td>0</td>\n",
       "      <td>0</td>\n",
       "      <td>0</td>\n",
       "      <td>0</td>\n",
       "      <td>0</td>\n",
       "      <td>0</td>\n",
       "      <td>0</td>\n",
       "    </tr>\n",
       "    <tr>\n",
       "      <th>218431</th>\n",
       "      <td>0</td>\n",
       "      <td>1</td>\n",
       "      <td>0</td>\n",
       "      <td>0</td>\n",
       "      <td>1</td>\n",
       "      <td>1</td>\n",
       "      <td>0</td>\n",
       "      <td>0</td>\n",
       "      <td>0</td>\n",
       "      <td>0</td>\n",
       "      <td>...</td>\n",
       "      <td>0</td>\n",
       "      <td>0</td>\n",
       "      <td>0</td>\n",
       "      <td>0</td>\n",
       "      <td>0</td>\n",
       "      <td>0</td>\n",
       "      <td>0</td>\n",
       "      <td>0</td>\n",
       "      <td>0</td>\n",
       "      <td>0</td>\n",
       "    </tr>\n",
       "    <tr>\n",
       "      <th>187597</th>\n",
       "      <td>0</td>\n",
       "      <td>1</td>\n",
       "      <td>0</td>\n",
       "      <td>0</td>\n",
       "      <td>1</td>\n",
       "      <td>0</td>\n",
       "      <td>1</td>\n",
       "      <td>0</td>\n",
       "      <td>0</td>\n",
       "      <td>0</td>\n",
       "      <td>...</td>\n",
       "      <td>0</td>\n",
       "      <td>0</td>\n",
       "      <td>0</td>\n",
       "      <td>0</td>\n",
       "      <td>0</td>\n",
       "      <td>0</td>\n",
       "      <td>0</td>\n",
       "      <td>0</td>\n",
       "      <td>0</td>\n",
       "      <td>0</td>\n",
       "    </tr>\n",
       "    <tr>\n",
       "      <th>...</th>\n",
       "      <td>...</td>\n",
       "      <td>...</td>\n",
       "      <td>...</td>\n",
       "      <td>...</td>\n",
       "      <td>...</td>\n",
       "      <td>...</td>\n",
       "      <td>...</td>\n",
       "      <td>...</td>\n",
       "      <td>...</td>\n",
       "      <td>...</td>\n",
       "      <td>...</td>\n",
       "      <td>...</td>\n",
       "      <td>...</td>\n",
       "      <td>...</td>\n",
       "      <td>...</td>\n",
       "      <td>...</td>\n",
       "      <td>...</td>\n",
       "      <td>...</td>\n",
       "      <td>...</td>\n",
       "      <td>...</td>\n",
       "      <td>...</td>\n",
       "    </tr>\n",
       "    <tr>\n",
       "      <th>182788</th>\n",
       "      <td>0</td>\n",
       "      <td>1</td>\n",
       "      <td>0</td>\n",
       "      <td>0</td>\n",
       "      <td>1</td>\n",
       "      <td>1</td>\n",
       "      <td>0</td>\n",
       "      <td>0</td>\n",
       "      <td>0</td>\n",
       "      <td>0</td>\n",
       "      <td>...</td>\n",
       "      <td>0</td>\n",
       "      <td>0</td>\n",
       "      <td>0</td>\n",
       "      <td>0</td>\n",
       "      <td>0</td>\n",
       "      <td>0</td>\n",
       "      <td>0</td>\n",
       "      <td>0</td>\n",
       "      <td>0</td>\n",
       "      <td>0</td>\n",
       "    </tr>\n",
       "    <tr>\n",
       "      <th>232759</th>\n",
       "      <td>0</td>\n",
       "      <td>1</td>\n",
       "      <td>0</td>\n",
       "      <td>0</td>\n",
       "      <td>1</td>\n",
       "      <td>1</td>\n",
       "      <td>0</td>\n",
       "      <td>0</td>\n",
       "      <td>0</td>\n",
       "      <td>0</td>\n",
       "      <td>...</td>\n",
       "      <td>0</td>\n",
       "      <td>0</td>\n",
       "      <td>0</td>\n",
       "      <td>0</td>\n",
       "      <td>0</td>\n",
       "      <td>0</td>\n",
       "      <td>0</td>\n",
       "      <td>0</td>\n",
       "      <td>0</td>\n",
       "      <td>0</td>\n",
       "    </tr>\n",
       "    <tr>\n",
       "      <th>184908</th>\n",
       "      <td>0</td>\n",
       "      <td>1</td>\n",
       "      <td>0</td>\n",
       "      <td>0</td>\n",
       "      <td>1</td>\n",
       "      <td>1</td>\n",
       "      <td>0</td>\n",
       "      <td>0</td>\n",
       "      <td>0</td>\n",
       "      <td>0</td>\n",
       "      <td>...</td>\n",
       "      <td>0</td>\n",
       "      <td>0</td>\n",
       "      <td>0</td>\n",
       "      <td>0</td>\n",
       "      <td>0</td>\n",
       "      <td>0</td>\n",
       "      <td>0</td>\n",
       "      <td>0</td>\n",
       "      <td>0</td>\n",
       "      <td>0</td>\n",
       "    </tr>\n",
       "    <tr>\n",
       "      <th>13380</th>\n",
       "      <td>1</td>\n",
       "      <td>0</td>\n",
       "      <td>0</td>\n",
       "      <td>0</td>\n",
       "      <td>1</td>\n",
       "      <td>1</td>\n",
       "      <td>0</td>\n",
       "      <td>0</td>\n",
       "      <td>0</td>\n",
       "      <td>0</td>\n",
       "      <td>...</td>\n",
       "      <td>0</td>\n",
       "      <td>0</td>\n",
       "      <td>0</td>\n",
       "      <td>0</td>\n",
       "      <td>0</td>\n",
       "      <td>1</td>\n",
       "      <td>0</td>\n",
       "      <td>0</td>\n",
       "      <td>0</td>\n",
       "      <td>0</td>\n",
       "    </tr>\n",
       "    <tr>\n",
       "      <th>193425</th>\n",
       "      <td>0</td>\n",
       "      <td>1</td>\n",
       "      <td>0</td>\n",
       "      <td>0</td>\n",
       "      <td>1</td>\n",
       "      <td>1</td>\n",
       "      <td>0</td>\n",
       "      <td>0</td>\n",
       "      <td>0</td>\n",
       "      <td>0</td>\n",
       "      <td>...</td>\n",
       "      <td>0</td>\n",
       "      <td>0</td>\n",
       "      <td>0</td>\n",
       "      <td>0</td>\n",
       "      <td>0</td>\n",
       "      <td>0</td>\n",
       "      <td>0</td>\n",
       "      <td>0</td>\n",
       "      <td>0</td>\n",
       "      <td>0</td>\n",
       "    </tr>\n",
       "  </tbody>\n",
       "</table>\n",
       "<p>61992 rows × 58 columns</p>\n",
       "</div>"
      ],
      "text/plain": [
       "        married_single_married  married_single_single  \\\n",
       "13812                        0                      1   \n",
       "125840                       0                      1   \n",
       "155790                       0                      1   \n",
       "218431                       0                      1   \n",
       "187597                       0                      1   \n",
       "...                        ...                    ...   \n",
       "182788                       0                      1   \n",
       "232759                       0                      1   \n",
       "184908                       0                      1   \n",
       "13380                        1                      0   \n",
       "193425                       0                      1   \n",
       "\n",
       "        house_ownership_norent_noown  house_ownership_owned  \\\n",
       "13812                              0                      0   \n",
       "125840                             0                      0   \n",
       "155790                             0                      0   \n",
       "218431                             0                      0   \n",
       "187597                             0                      0   \n",
       "...                              ...                    ...   \n",
       "182788                             0                      0   \n",
       "232759                             0                      0   \n",
       "184908                             0                      0   \n",
       "13380                              0                      0   \n",
       "193425                             0                      0   \n",
       "\n",
       "        house_ownership_rented  car_ownership_no  car_ownership_yes  \\\n",
       "13812                        1                 0                  1   \n",
       "125840                       1                 1                  0   \n",
       "155790                       1                 1                  0   \n",
       "218431                       1                 1                  0   \n",
       "187597                       1                 0                  1   \n",
       "...                        ...               ...                ...   \n",
       "182788                       1                 1                  0   \n",
       "232759                       1                 1                  0   \n",
       "184908                       1                 1                  0   \n",
       "13380                        1                 1                  0   \n",
       "193425                       1                 1                  0   \n",
       "\n",
       "        profession_Air_traffic_controller  profession_Analyst  \\\n",
       "13812                                   0                   0   \n",
       "125840                                  0                   0   \n",
       "155790                                  0                   0   \n",
       "218431                                  0                   0   \n",
       "187597                                  0                   0   \n",
       "...                                   ...                 ...   \n",
       "182788                                  0                   0   \n",
       "232759                                  0                   0   \n",
       "184908                                  0                   0   \n",
       "13380                                   0                   0   \n",
       "193425                                  0                   0   \n",
       "\n",
       "        profession_Architect  ...  profession_Scientist  profession_Secretary  \\\n",
       "13812                      0  ...                     0                     0   \n",
       "125840                     0  ...                     0                     0   \n",
       "155790                     0  ...                     0                     0   \n",
       "218431                     0  ...                     0                     0   \n",
       "187597                     0  ...                     0                     0   \n",
       "...                      ...  ...                   ...                   ...   \n",
       "182788                     0  ...                     0                     0   \n",
       "232759                     0  ...                     0                     0   \n",
       "184908                     0  ...                     0                     0   \n",
       "13380                      0  ...                     0                     0   \n",
       "193425                     0  ...                     0                     0   \n",
       "\n",
       "        profession_Software_Developer  profession_Statistician  \\\n",
       "13812                               0                        0   \n",
       "125840                              0                        0   \n",
       "155790                              0                        0   \n",
       "218431                              0                        0   \n",
       "187597                              0                        0   \n",
       "...                               ...                      ...   \n",
       "182788                              0                        0   \n",
       "232759                              0                        0   \n",
       "184908                              0                        0   \n",
       "13380                               0                        0   \n",
       "193425                              0                        0   \n",
       "\n",
       "        profession_Surgeon  profession_Surveyor  profession_Technical_writer  \\\n",
       "13812                    1                    0                            0   \n",
       "125840                   0                    0                            0   \n",
       "155790                   0                    0                            0   \n",
       "218431                   0                    0                            0   \n",
       "187597                   0                    0                            0   \n",
       "...                    ...                  ...                          ...   \n",
       "182788                   0                    0                            0   \n",
       "232759                   0                    0                            0   \n",
       "184908                   0                    0                            0   \n",
       "13380                    0                    1                            0   \n",
       "193425                   0                    0                            0   \n",
       "\n",
       "        profession_Technician  profession_Technology_specialist  \\\n",
       "13812                       0                                 0   \n",
       "125840                      0                                 0   \n",
       "155790                      0                                 0   \n",
       "218431                      0                                 0   \n",
       "187597                      0                                 0   \n",
       "...                       ...                               ...   \n",
       "182788                      0                                 0   \n",
       "232759                      0                                 0   \n",
       "184908                      0                                 0   \n",
       "13380                       0                                 0   \n",
       "193425                      0                                 0   \n",
       "\n",
       "        profession_Web_designer  \n",
       "13812                         0  \n",
       "125840                        0  \n",
       "155790                        0  \n",
       "218431                        0  \n",
       "187597                        0  \n",
       "...                         ...  \n",
       "182788                        0  \n",
       "232759                        0  \n",
       "184908                        0  \n",
       "13380                         0  \n",
       "193425                        0  \n",
       "\n",
       "[61992 rows x 58 columns]"
      ]
     },
     "execution_count": 37,
     "metadata": {},
     "output_type": "execute_result"
    }
   ],
   "source": [
    "# convert categorical data into dummy or indicator variables\n",
    "convert = ['married_single', 'house_ownership', 'car_ownership', 'profession' ]\n",
    "convert_data = pd.get_dummies(df_loan[convert])\n",
    "convert_data"
   ]
  },
  {
   "cell_type": "code",
   "execution_count": 38,
   "id": "94cf1115",
   "metadata": {
    "scrolled": false
   },
   "outputs": [
    {
     "data": {
      "text/html": [
       "<div>\n",
       "<style scoped>\n",
       "    .dataframe tbody tr th:only-of-type {\n",
       "        vertical-align: middle;\n",
       "    }\n",
       "\n",
       "    .dataframe tbody tr th {\n",
       "        vertical-align: top;\n",
       "    }\n",
       "\n",
       "    .dataframe thead th {\n",
       "        text-align: right;\n",
       "    }\n",
       "</style>\n",
       "<table border=\"1\" class=\"dataframe\">\n",
       "  <thead>\n",
       "    <tr style=\"text-align: right;\">\n",
       "      <th></th>\n",
       "      <th>id</th>\n",
       "      <th>income</th>\n",
       "      <th>age</th>\n",
       "      <th>experience</th>\n",
       "      <th>married_single</th>\n",
       "      <th>house_ownership</th>\n",
       "      <th>car_ownership</th>\n",
       "      <th>profession</th>\n",
       "      <th>city</th>\n",
       "      <th>state</th>\n",
       "      <th>...</th>\n",
       "      <th>profession_Scientist</th>\n",
       "      <th>profession_Secretary</th>\n",
       "      <th>profession_Software_Developer</th>\n",
       "      <th>profession_Statistician</th>\n",
       "      <th>profession_Surgeon</th>\n",
       "      <th>profession_Surveyor</th>\n",
       "      <th>profession_Technical_writer</th>\n",
       "      <th>profession_Technician</th>\n",
       "      <th>profession_Technology_specialist</th>\n",
       "      <th>profession_Web_designer</th>\n",
       "    </tr>\n",
       "  </thead>\n",
       "  <tbody>\n",
       "    <tr>\n",
       "      <th>13812</th>\n",
       "      <td>13813</td>\n",
       "      <td>9240885</td>\n",
       "      <td>49</td>\n",
       "      <td>19</td>\n",
       "      <td>single</td>\n",
       "      <td>rented</td>\n",
       "      <td>yes</td>\n",
       "      <td>Surgeon</td>\n",
       "      <td>Asansol</td>\n",
       "      <td>West</td>\n",
       "      <td>...</td>\n",
       "      <td>0</td>\n",
       "      <td>0</td>\n",
       "      <td>0</td>\n",
       "      <td>0</td>\n",
       "      <td>1</td>\n",
       "      <td>0</td>\n",
       "      <td>0</td>\n",
       "      <td>0</td>\n",
       "      <td>0</td>\n",
       "      <td>0</td>\n",
       "    </tr>\n",
       "    <tr>\n",
       "      <th>125840</th>\n",
       "      <td>125841</td>\n",
       "      <td>9249971</td>\n",
       "      <td>69</td>\n",
       "      <td>4</td>\n",
       "      <td>single</td>\n",
       "      <td>rented</td>\n",
       "      <td>no</td>\n",
       "      <td>Physician</td>\n",
       "      <td>Pali</td>\n",
       "      <td>Rajasthan</td>\n",
       "      <td>...</td>\n",
       "      <td>0</td>\n",
       "      <td>0</td>\n",
       "      <td>0</td>\n",
       "      <td>0</td>\n",
       "      <td>0</td>\n",
       "      <td>0</td>\n",
       "      <td>0</td>\n",
       "      <td>0</td>\n",
       "      <td>0</td>\n",
       "      <td>0</td>\n",
       "    </tr>\n",
       "    <tr>\n",
       "      <th>155790</th>\n",
       "      <td>155791</td>\n",
       "      <td>3390339</td>\n",
       "      <td>22</td>\n",
       "      <td>19</td>\n",
       "      <td>single</td>\n",
       "      <td>rented</td>\n",
       "      <td>no</td>\n",
       "      <td>Comedian</td>\n",
       "      <td>Davanagere</td>\n",
       "      <td>Karnataka</td>\n",
       "      <td>...</td>\n",
       "      <td>0</td>\n",
       "      <td>0</td>\n",
       "      <td>0</td>\n",
       "      <td>0</td>\n",
       "      <td>0</td>\n",
       "      <td>0</td>\n",
       "      <td>0</td>\n",
       "      <td>0</td>\n",
       "      <td>0</td>\n",
       "      <td>0</td>\n",
       "    </tr>\n",
       "    <tr>\n",
       "      <th>218431</th>\n",
       "      <td>218432</td>\n",
       "      <td>9290440</td>\n",
       "      <td>59</td>\n",
       "      <td>5</td>\n",
       "      <td>single</td>\n",
       "      <td>rented</td>\n",
       "      <td>no</td>\n",
       "      <td>Civil_servant</td>\n",
       "      <td>Nashik</td>\n",
       "      <td>Maharashtra</td>\n",
       "      <td>...</td>\n",
       "      <td>0</td>\n",
       "      <td>0</td>\n",
       "      <td>0</td>\n",
       "      <td>0</td>\n",
       "      <td>0</td>\n",
       "      <td>0</td>\n",
       "      <td>0</td>\n",
       "      <td>0</td>\n",
       "      <td>0</td>\n",
       "      <td>0</td>\n",
       "    </tr>\n",
       "    <tr>\n",
       "      <th>187597</th>\n",
       "      <td>187598</td>\n",
       "      <td>5953603</td>\n",
       "      <td>29</td>\n",
       "      <td>11</td>\n",
       "      <td>single</td>\n",
       "      <td>rented</td>\n",
       "      <td>yes</td>\n",
       "      <td>Mechanical_engineer</td>\n",
       "      <td>Nagpur</td>\n",
       "      <td>Maharashtra</td>\n",
       "      <td>...</td>\n",
       "      <td>0</td>\n",
       "      <td>0</td>\n",
       "      <td>0</td>\n",
       "      <td>0</td>\n",
       "      <td>0</td>\n",
       "      <td>0</td>\n",
       "      <td>0</td>\n",
       "      <td>0</td>\n",
       "      <td>0</td>\n",
       "      <td>0</td>\n",
       "    </tr>\n",
       "    <tr>\n",
       "      <th>...</th>\n",
       "      <td>...</td>\n",
       "      <td>...</td>\n",
       "      <td>...</td>\n",
       "      <td>...</td>\n",
       "      <td>...</td>\n",
       "      <td>...</td>\n",
       "      <td>...</td>\n",
       "      <td>...</td>\n",
       "      <td>...</td>\n",
       "      <td>...</td>\n",
       "      <td>...</td>\n",
       "      <td>...</td>\n",
       "      <td>...</td>\n",
       "      <td>...</td>\n",
       "      <td>...</td>\n",
       "      <td>...</td>\n",
       "      <td>...</td>\n",
       "      <td>...</td>\n",
       "      <td>...</td>\n",
       "      <td>...</td>\n",
       "      <td>...</td>\n",
       "    </tr>\n",
       "    <tr>\n",
       "      <th>182788</th>\n",
       "      <td>182789</td>\n",
       "      <td>4406338</td>\n",
       "      <td>78</td>\n",
       "      <td>17</td>\n",
       "      <td>single</td>\n",
       "      <td>rented</td>\n",
       "      <td>no</td>\n",
       "      <td>Fashion_Designer</td>\n",
       "      <td>Vadodara</td>\n",
       "      <td>Gujarat</td>\n",
       "      <td>...</td>\n",
       "      <td>0</td>\n",
       "      <td>0</td>\n",
       "      <td>0</td>\n",
       "      <td>0</td>\n",
       "      <td>0</td>\n",
       "      <td>0</td>\n",
       "      <td>0</td>\n",
       "      <td>0</td>\n",
       "      <td>0</td>\n",
       "      <td>0</td>\n",
       "    </tr>\n",
       "    <tr>\n",
       "      <th>232759</th>\n",
       "      <td>232760</td>\n",
       "      <td>5276071</td>\n",
       "      <td>22</td>\n",
       "      <td>16</td>\n",
       "      <td>single</td>\n",
       "      <td>rented</td>\n",
       "      <td>no</td>\n",
       "      <td>Firefighter</td>\n",
       "      <td>Miryalaguda</td>\n",
       "      <td>Telangana</td>\n",
       "      <td>...</td>\n",
       "      <td>0</td>\n",
       "      <td>0</td>\n",
       "      <td>0</td>\n",
       "      <td>0</td>\n",
       "      <td>0</td>\n",
       "      <td>0</td>\n",
       "      <td>0</td>\n",
       "      <td>0</td>\n",
       "      <td>0</td>\n",
       "      <td>0</td>\n",
       "    </tr>\n",
       "    <tr>\n",
       "      <th>184908</th>\n",
       "      <td>184909</td>\n",
       "      <td>9645128</td>\n",
       "      <td>26</td>\n",
       "      <td>2</td>\n",
       "      <td>single</td>\n",
       "      <td>rented</td>\n",
       "      <td>no</td>\n",
       "      <td>Artist</td>\n",
       "      <td>Kavali</td>\n",
       "      <td>Andhra</td>\n",
       "      <td>...</td>\n",
       "      <td>0</td>\n",
       "      <td>0</td>\n",
       "      <td>0</td>\n",
       "      <td>0</td>\n",
       "      <td>0</td>\n",
       "      <td>0</td>\n",
       "      <td>0</td>\n",
       "      <td>0</td>\n",
       "      <td>0</td>\n",
       "      <td>0</td>\n",
       "    </tr>\n",
       "    <tr>\n",
       "      <th>13380</th>\n",
       "      <td>13381</td>\n",
       "      <td>4868070</td>\n",
       "      <td>51</td>\n",
       "      <td>17</td>\n",
       "      <td>married</td>\n",
       "      <td>rented</td>\n",
       "      <td>no</td>\n",
       "      <td>Surveyor</td>\n",
       "      <td>Vadodara</td>\n",
       "      <td>Gujarat</td>\n",
       "      <td>...</td>\n",
       "      <td>0</td>\n",
       "      <td>0</td>\n",
       "      <td>0</td>\n",
       "      <td>0</td>\n",
       "      <td>0</td>\n",
       "      <td>1</td>\n",
       "      <td>0</td>\n",
       "      <td>0</td>\n",
       "      <td>0</td>\n",
       "      <td>0</td>\n",
       "    </tr>\n",
       "    <tr>\n",
       "      <th>193425</th>\n",
       "      <td>193426</td>\n",
       "      <td>1880537</td>\n",
       "      <td>25</td>\n",
       "      <td>8</td>\n",
       "      <td>single</td>\n",
       "      <td>rented</td>\n",
       "      <td>no</td>\n",
       "      <td>Chemical_engineer</td>\n",
       "      <td>Karawal</td>\n",
       "      <td>Delhi</td>\n",
       "      <td>...</td>\n",
       "      <td>0</td>\n",
       "      <td>0</td>\n",
       "      <td>0</td>\n",
       "      <td>0</td>\n",
       "      <td>0</td>\n",
       "      <td>0</td>\n",
       "      <td>0</td>\n",
       "      <td>0</td>\n",
       "      <td>0</td>\n",
       "      <td>0</td>\n",
       "    </tr>\n",
       "  </tbody>\n",
       "</table>\n",
       "<p>61992 rows × 71 columns</p>\n",
       "</div>"
      ],
      "text/plain": [
       "            id   income  age  experience married_single house_ownership  \\\n",
       "13812    13813  9240885   49          19         single          rented   \n",
       "125840  125841  9249971   69           4         single          rented   \n",
       "155790  155791  3390339   22          19         single          rented   \n",
       "218431  218432  9290440   59           5         single          rented   \n",
       "187597  187598  5953603   29          11         single          rented   \n",
       "...        ...      ...  ...         ...            ...             ...   \n",
       "182788  182789  4406338   78          17         single          rented   \n",
       "232759  232760  5276071   22          16         single          rented   \n",
       "184908  184909  9645128   26           2         single          rented   \n",
       "13380    13381  4868070   51          17        married          rented   \n",
       "193425  193426  1880537   25           8         single          rented   \n",
       "\n",
       "       car_ownership           profession         city        state  ...  \\\n",
       "13812            yes              Surgeon      Asansol         West  ...   \n",
       "125840            no            Physician         Pali    Rajasthan  ...   \n",
       "155790            no             Comedian   Davanagere    Karnataka  ...   \n",
       "218431            no        Civil_servant       Nashik  Maharashtra  ...   \n",
       "187597           yes  Mechanical_engineer       Nagpur  Maharashtra  ...   \n",
       "...              ...                  ...          ...          ...  ...   \n",
       "182788            no     Fashion_Designer     Vadodara      Gujarat  ...   \n",
       "232759            no          Firefighter  Miryalaguda    Telangana  ...   \n",
       "184908            no               Artist       Kavali       Andhra  ...   \n",
       "13380             no             Surveyor     Vadodara      Gujarat  ...   \n",
       "193425            no    Chemical_engineer      Karawal        Delhi  ...   \n",
       "\n",
       "        profession_Scientist  profession_Secretary  \\\n",
       "13812                      0                     0   \n",
       "125840                     0                     0   \n",
       "155790                     0                     0   \n",
       "218431                     0                     0   \n",
       "187597                     0                     0   \n",
       "...                      ...                   ...   \n",
       "182788                     0                     0   \n",
       "232759                     0                     0   \n",
       "184908                     0                     0   \n",
       "13380                      0                     0   \n",
       "193425                     0                     0   \n",
       "\n",
       "        profession_Software_Developer  profession_Statistician  \\\n",
       "13812                               0                        0   \n",
       "125840                              0                        0   \n",
       "155790                              0                        0   \n",
       "218431                              0                        0   \n",
       "187597                              0                        0   \n",
       "...                               ...                      ...   \n",
       "182788                              0                        0   \n",
       "232759                              0                        0   \n",
       "184908                              0                        0   \n",
       "13380                               0                        0   \n",
       "193425                              0                        0   \n",
       "\n",
       "        profession_Surgeon  profession_Surveyor  profession_Technical_writer  \\\n",
       "13812                    1                    0                            0   \n",
       "125840                   0                    0                            0   \n",
       "155790                   0                    0                            0   \n",
       "218431                   0                    0                            0   \n",
       "187597                   0                    0                            0   \n",
       "...                    ...                  ...                          ...   \n",
       "182788                   0                    0                            0   \n",
       "232759                   0                    0                            0   \n",
       "184908                   0                    0                            0   \n",
       "13380                    0                    1                            0   \n",
       "193425                   0                    0                            0   \n",
       "\n",
       "        profession_Technician  profession_Technology_specialist  \\\n",
       "13812                       0                                 0   \n",
       "125840                      0                                 0   \n",
       "155790                      0                                 0   \n",
       "218431                      0                                 0   \n",
       "187597                      0                                 0   \n",
       "...                       ...                               ...   \n",
       "182788                      0                                 0   \n",
       "232759                      0                                 0   \n",
       "184908                      0                                 0   \n",
       "13380                       0                                 0   \n",
       "193425                      0                                 0   \n",
       "\n",
       "        profession_Web_designer  \n",
       "13812                         0  \n",
       "125840                        0  \n",
       "155790                        0  \n",
       "218431                        0  \n",
       "187597                        0  \n",
       "...                         ...  \n",
       "182788                        0  \n",
       "232759                        0  \n",
       "184908                        0  \n",
       "13380                         0  \n",
       "193425                        0  \n",
       "\n",
       "[61992 rows x 71 columns]"
      ]
     },
     "execution_count": 38,
     "metadata": {},
     "output_type": "execute_result"
    }
   ],
   "source": [
    "data_f = pd.concat([df_loan, convert_data], axis=1)\n",
    "data_f"
   ]
  },
  {
   "cell_type": "code",
   "execution_count": 39,
   "id": "729296e0",
   "metadata": {},
   "outputs": [],
   "source": [
    "# Drop unnecessary columns\n",
    "data = data_f.drop('city', axis=1)"
   ]
  },
  {
   "cell_type": "code",
   "execution_count": 40,
   "id": "2d42d936",
   "metadata": {},
   "outputs": [],
   "source": [
    "# Drop unnecessary columns\n",
    "data = data.drop('state', axis=1)"
   ]
  },
  {
   "cell_type": "code",
   "execution_count": 41,
   "id": "591972fc",
   "metadata": {},
   "outputs": [],
   "source": [
    "# Drop unnecessary columns\n",
    "data = data.drop('id', axis=1)"
   ]
  },
  {
   "cell_type": "code",
   "execution_count": 42,
   "id": "06786e9a",
   "metadata": {},
   "outputs": [],
   "source": [
    "# Use StandardScaler to remove the mean and scale the data to unit variance\n",
    "from sklearn.preprocessing import LabelEncoder, StandardScaler"
   ]
  },
  {
   "cell_type": "code",
   "execution_count": 43,
   "id": "42ba7238",
   "metadata": {},
   "outputs": [],
   "source": [
    "features = ['married_single','car_ownership', 'house_ownership', 'profession']\n",
    "label_encoder = LabelEncoder()\n",
    "\n",
    "for col in features:\n",
    "    data[col] = label_encoder.fit_transform(data[col])"
   ]
  },
  {
   "cell_type": "code",
   "execution_count": 44,
   "id": "4e466056",
   "metadata": {
    "scrolled": true
   },
   "outputs": [
    {
     "data": {
      "text/html": [
       "<div>\n",
       "<style scoped>\n",
       "    .dataframe tbody tr th:only-of-type {\n",
       "        vertical-align: middle;\n",
       "    }\n",
       "\n",
       "    .dataframe tbody tr th {\n",
       "        vertical-align: top;\n",
       "    }\n",
       "\n",
       "    .dataframe thead th {\n",
       "        text-align: right;\n",
       "    }\n",
       "</style>\n",
       "<table border=\"1\" class=\"dataframe\">\n",
       "  <thead>\n",
       "    <tr style=\"text-align: right;\">\n",
       "      <th></th>\n",
       "      <th>income</th>\n",
       "      <th>age</th>\n",
       "      <th>experience</th>\n",
       "      <th>married_single</th>\n",
       "      <th>house_ownership</th>\n",
       "      <th>car_ownership</th>\n",
       "      <th>profession</th>\n",
       "      <th>current_job_yrs</th>\n",
       "      <th>current_house_yrs</th>\n",
       "      <th>risk_flag</th>\n",
       "      <th>...</th>\n",
       "      <th>profession_Scientist</th>\n",
       "      <th>profession_Secretary</th>\n",
       "      <th>profession_Software_Developer</th>\n",
       "      <th>profession_Statistician</th>\n",
       "      <th>profession_Surgeon</th>\n",
       "      <th>profession_Surveyor</th>\n",
       "      <th>profession_Technical_writer</th>\n",
       "      <th>profession_Technician</th>\n",
       "      <th>profession_Technology_specialist</th>\n",
       "      <th>profession_Web_designer</th>\n",
       "    </tr>\n",
       "  </thead>\n",
       "  <tbody>\n",
       "    <tr>\n",
       "      <th>13812</th>\n",
       "      <td>9240885</td>\n",
       "      <td>49</td>\n",
       "      <td>19</td>\n",
       "      <td>1</td>\n",
       "      <td>2</td>\n",
       "      <td>1</td>\n",
       "      <td>45</td>\n",
       "      <td>14</td>\n",
       "      <td>13</td>\n",
       "      <td>0</td>\n",
       "      <td>...</td>\n",
       "      <td>0</td>\n",
       "      <td>0</td>\n",
       "      <td>0</td>\n",
       "      <td>0</td>\n",
       "      <td>1</td>\n",
       "      <td>0</td>\n",
       "      <td>0</td>\n",
       "      <td>0</td>\n",
       "      <td>0</td>\n",
       "      <td>0</td>\n",
       "    </tr>\n",
       "    <tr>\n",
       "      <th>125840</th>\n",
       "      <td>9249971</td>\n",
       "      <td>69</td>\n",
       "      <td>4</td>\n",
       "      <td>1</td>\n",
       "      <td>2</td>\n",
       "      <td>0</td>\n",
       "      <td>37</td>\n",
       "      <td>4</td>\n",
       "      <td>14</td>\n",
       "      <td>0</td>\n",
       "      <td>...</td>\n",
       "      <td>0</td>\n",
       "      <td>0</td>\n",
       "      <td>0</td>\n",
       "      <td>0</td>\n",
       "      <td>0</td>\n",
       "      <td>0</td>\n",
       "      <td>0</td>\n",
       "      <td>0</td>\n",
       "      <td>0</td>\n",
       "      <td>0</td>\n",
       "    </tr>\n",
       "    <tr>\n",
       "      <th>155790</th>\n",
       "      <td>3390339</td>\n",
       "      <td>22</td>\n",
       "      <td>19</td>\n",
       "      <td>1</td>\n",
       "      <td>2</td>\n",
       "      <td>0</td>\n",
       "      <td>12</td>\n",
       "      <td>3</td>\n",
       "      <td>13</td>\n",
       "      <td>0</td>\n",
       "      <td>...</td>\n",
       "      <td>0</td>\n",
       "      <td>0</td>\n",
       "      <td>0</td>\n",
       "      <td>0</td>\n",
       "      <td>0</td>\n",
       "      <td>0</td>\n",
       "      <td>0</td>\n",
       "      <td>0</td>\n",
       "      <td>0</td>\n",
       "      <td>0</td>\n",
       "    </tr>\n",
       "    <tr>\n",
       "      <th>218431</th>\n",
       "      <td>9290440</td>\n",
       "      <td>59</td>\n",
       "      <td>5</td>\n",
       "      <td>1</td>\n",
       "      <td>2</td>\n",
       "      <td>0</td>\n",
       "      <td>11</td>\n",
       "      <td>5</td>\n",
       "      <td>11</td>\n",
       "      <td>1</td>\n",
       "      <td>...</td>\n",
       "      <td>0</td>\n",
       "      <td>0</td>\n",
       "      <td>0</td>\n",
       "      <td>0</td>\n",
       "      <td>0</td>\n",
       "      <td>0</td>\n",
       "      <td>0</td>\n",
       "      <td>0</td>\n",
       "      <td>0</td>\n",
       "      <td>0</td>\n",
       "    </tr>\n",
       "    <tr>\n",
       "      <th>187597</th>\n",
       "      <td>5953603</td>\n",
       "      <td>29</td>\n",
       "      <td>11</td>\n",
       "      <td>1</td>\n",
       "      <td>2</td>\n",
       "      <td>1</td>\n",
       "      <td>33</td>\n",
       "      <td>7</td>\n",
       "      <td>10</td>\n",
       "      <td>1</td>\n",
       "      <td>...</td>\n",
       "      <td>0</td>\n",
       "      <td>0</td>\n",
       "      <td>0</td>\n",
       "      <td>0</td>\n",
       "      <td>0</td>\n",
       "      <td>0</td>\n",
       "      <td>0</td>\n",
       "      <td>0</td>\n",
       "      <td>0</td>\n",
       "      <td>0</td>\n",
       "    </tr>\n",
       "    <tr>\n",
       "      <th>...</th>\n",
       "      <td>...</td>\n",
       "      <td>...</td>\n",
       "      <td>...</td>\n",
       "      <td>...</td>\n",
       "      <td>...</td>\n",
       "      <td>...</td>\n",
       "      <td>...</td>\n",
       "      <td>...</td>\n",
       "      <td>...</td>\n",
       "      <td>...</td>\n",
       "      <td>...</td>\n",
       "      <td>...</td>\n",
       "      <td>...</td>\n",
       "      <td>...</td>\n",
       "      <td>...</td>\n",
       "      <td>...</td>\n",
       "      <td>...</td>\n",
       "      <td>...</td>\n",
       "      <td>...</td>\n",
       "      <td>...</td>\n",
       "      <td>...</td>\n",
       "    </tr>\n",
       "    <tr>\n",
       "      <th>182788</th>\n",
       "      <td>4406338</td>\n",
       "      <td>78</td>\n",
       "      <td>17</td>\n",
       "      <td>1</td>\n",
       "      <td>2</td>\n",
       "      <td>0</td>\n",
       "      <td>22</td>\n",
       "      <td>10</td>\n",
       "      <td>10</td>\n",
       "      <td>0</td>\n",
       "      <td>...</td>\n",
       "      <td>0</td>\n",
       "      <td>0</td>\n",
       "      <td>0</td>\n",
       "      <td>0</td>\n",
       "      <td>0</td>\n",
       "      <td>0</td>\n",
       "      <td>0</td>\n",
       "      <td>0</td>\n",
       "      <td>0</td>\n",
       "      <td>0</td>\n",
       "    </tr>\n",
       "    <tr>\n",
       "      <th>232759</th>\n",
       "      <td>5276071</td>\n",
       "      <td>22</td>\n",
       "      <td>16</td>\n",
       "      <td>1</td>\n",
       "      <td>2</td>\n",
       "      <td>0</td>\n",
       "      <td>24</td>\n",
       "      <td>12</td>\n",
       "      <td>10</td>\n",
       "      <td>0</td>\n",
       "      <td>...</td>\n",
       "      <td>0</td>\n",
       "      <td>0</td>\n",
       "      <td>0</td>\n",
       "      <td>0</td>\n",
       "      <td>0</td>\n",
       "      <td>0</td>\n",
       "      <td>0</td>\n",
       "      <td>0</td>\n",
       "      <td>0</td>\n",
       "      <td>0</td>\n",
       "    </tr>\n",
       "    <tr>\n",
       "      <th>184908</th>\n",
       "      <td>9645128</td>\n",
       "      <td>26</td>\n",
       "      <td>2</td>\n",
       "      <td>1</td>\n",
       "      <td>2</td>\n",
       "      <td>0</td>\n",
       "      <td>4</td>\n",
       "      <td>2</td>\n",
       "      <td>11</td>\n",
       "      <td>1</td>\n",
       "      <td>...</td>\n",
       "      <td>0</td>\n",
       "      <td>0</td>\n",
       "      <td>0</td>\n",
       "      <td>0</td>\n",
       "      <td>0</td>\n",
       "      <td>0</td>\n",
       "      <td>0</td>\n",
       "      <td>0</td>\n",
       "      <td>0</td>\n",
       "      <td>0</td>\n",
       "    </tr>\n",
       "    <tr>\n",
       "      <th>13380</th>\n",
       "      <td>4868070</td>\n",
       "      <td>51</td>\n",
       "      <td>17</td>\n",
       "      <td>0</td>\n",
       "      <td>2</td>\n",
       "      <td>0</td>\n",
       "      <td>46</td>\n",
       "      <td>6</td>\n",
       "      <td>13</td>\n",
       "      <td>1</td>\n",
       "      <td>...</td>\n",
       "      <td>0</td>\n",
       "      <td>0</td>\n",
       "      <td>0</td>\n",
       "      <td>0</td>\n",
       "      <td>0</td>\n",
       "      <td>1</td>\n",
       "      <td>0</td>\n",
       "      <td>0</td>\n",
       "      <td>0</td>\n",
       "      <td>0</td>\n",
       "    </tr>\n",
       "    <tr>\n",
       "      <th>193425</th>\n",
       "      <td>1880537</td>\n",
       "      <td>25</td>\n",
       "      <td>8</td>\n",
       "      <td>1</td>\n",
       "      <td>2</td>\n",
       "      <td>0</td>\n",
       "      <td>9</td>\n",
       "      <td>8</td>\n",
       "      <td>11</td>\n",
       "      <td>0</td>\n",
       "      <td>...</td>\n",
       "      <td>0</td>\n",
       "      <td>0</td>\n",
       "      <td>0</td>\n",
       "      <td>0</td>\n",
       "      <td>0</td>\n",
       "      <td>0</td>\n",
       "      <td>0</td>\n",
       "      <td>0</td>\n",
       "      <td>0</td>\n",
       "      <td>0</td>\n",
       "    </tr>\n",
       "  </tbody>\n",
       "</table>\n",
       "<p>61992 rows × 68 columns</p>\n",
       "</div>"
      ],
      "text/plain": [
       "         income  age  experience  married_single  house_ownership  \\\n",
       "13812   9240885   49          19               1                2   \n",
       "125840  9249971   69           4               1                2   \n",
       "155790  3390339   22          19               1                2   \n",
       "218431  9290440   59           5               1                2   \n",
       "187597  5953603   29          11               1                2   \n",
       "...         ...  ...         ...             ...              ...   \n",
       "182788  4406338   78          17               1                2   \n",
       "232759  5276071   22          16               1                2   \n",
       "184908  9645128   26           2               1                2   \n",
       "13380   4868070   51          17               0                2   \n",
       "193425  1880537   25           8               1                2   \n",
       "\n",
       "        car_ownership  profession  current_job_yrs  current_house_yrs  \\\n",
       "13812               1          45               14                 13   \n",
       "125840              0          37                4                 14   \n",
       "155790              0          12                3                 13   \n",
       "218431              0          11                5                 11   \n",
       "187597              1          33                7                 10   \n",
       "...               ...         ...              ...                ...   \n",
       "182788              0          22               10                 10   \n",
       "232759              0          24               12                 10   \n",
       "184908              0           4                2                 11   \n",
       "13380               0          46                6                 13   \n",
       "193425              0           9                8                 11   \n",
       "\n",
       "        risk_flag  ...  profession_Scientist  profession_Secretary  \\\n",
       "13812           0  ...                     0                     0   \n",
       "125840          0  ...                     0                     0   \n",
       "155790          0  ...                     0                     0   \n",
       "218431          1  ...                     0                     0   \n",
       "187597          1  ...                     0                     0   \n",
       "...           ...  ...                   ...                   ...   \n",
       "182788          0  ...                     0                     0   \n",
       "232759          0  ...                     0                     0   \n",
       "184908          1  ...                     0                     0   \n",
       "13380           1  ...                     0                     0   \n",
       "193425          0  ...                     0                     0   \n",
       "\n",
       "        profession_Software_Developer  profession_Statistician  \\\n",
       "13812                               0                        0   \n",
       "125840                              0                        0   \n",
       "155790                              0                        0   \n",
       "218431                              0                        0   \n",
       "187597                              0                        0   \n",
       "...                               ...                      ...   \n",
       "182788                              0                        0   \n",
       "232759                              0                        0   \n",
       "184908                              0                        0   \n",
       "13380                               0                        0   \n",
       "193425                              0                        0   \n",
       "\n",
       "        profession_Surgeon  profession_Surveyor  profession_Technical_writer  \\\n",
       "13812                    1                    0                            0   \n",
       "125840                   0                    0                            0   \n",
       "155790                   0                    0                            0   \n",
       "218431                   0                    0                            0   \n",
       "187597                   0                    0                            0   \n",
       "...                    ...                  ...                          ...   \n",
       "182788                   0                    0                            0   \n",
       "232759                   0                    0                            0   \n",
       "184908                   0                    0                            0   \n",
       "13380                    0                    1                            0   \n",
       "193425                   0                    0                            0   \n",
       "\n",
       "        profession_Technician  profession_Technology_specialist  \\\n",
       "13812                       0                                 0   \n",
       "125840                      0                                 0   \n",
       "155790                      0                                 0   \n",
       "218431                      0                                 0   \n",
       "187597                      0                                 0   \n",
       "...                       ...                               ...   \n",
       "182788                      0                                 0   \n",
       "232759                      0                                 0   \n",
       "184908                      0                                 0   \n",
       "13380                       0                                 0   \n",
       "193425                      0                                 0   \n",
       "\n",
       "        profession_Web_designer  \n",
       "13812                         0  \n",
       "125840                        0  \n",
       "155790                        0  \n",
       "218431                        0  \n",
       "187597                        0  \n",
       "...                         ...  \n",
       "182788                        0  \n",
       "232759                        0  \n",
       "184908                        0  \n",
       "13380                         0  \n",
       "193425                        0  \n",
       "\n",
       "[61992 rows x 68 columns]"
      ]
     },
     "execution_count": 44,
     "metadata": {},
     "output_type": "execute_result"
    }
   ],
   "source": [
    "data"
   ]
  },
  {
   "cell_type": "markdown",
   "id": "1d784ddd",
   "metadata": {},
   "source": [
    "### Perform a Train-Test Split on All Data"
   ]
  },
  {
   "cell_type": "code",
   "execution_count": 45,
   "id": "7ca711f2",
   "metadata": {},
   "outputs": [],
   "source": [
    "# Define x and y\n",
    "x = data.drop(columns='risk_flag')\n",
    "y = data.risk_flag"
   ]
  },
  {
   "cell_type": "code",
   "execution_count": 46,
   "id": "663619ae",
   "metadata": {},
   "outputs": [
    {
     "data": {
      "text/plain": [
       "1    30996\n",
       "0    30996\n",
       "Name: risk_flag, dtype: int64"
      ]
     },
     "execution_count": 46,
     "metadata": {},
     "output_type": "execute_result"
    }
   ],
   "source": [
    "# Check the new class sizes\n",
    "y.value_counts()"
   ]
  },
  {
   "cell_type": "code",
   "execution_count": 47,
   "id": "51d4b260",
   "metadata": {},
   "outputs": [
    {
     "data": {
      "text/plain": [
       "(61992, 67)"
      ]
     },
     "execution_count": 47,
     "metadata": {},
     "output_type": "execute_result"
    }
   ],
   "source": [
    "x.shape"
   ]
  },
  {
   "cell_type": "code",
   "execution_count": 48,
   "id": "51aec109",
   "metadata": {},
   "outputs": [],
   "source": [
    "# Create a train-test split with a random state of 42\n",
    "X_train, X_test, y_train, y_test = train_test_split(x, y, test_size=0.2, random_state=42)"
   ]
  },
  {
   "cell_type": "code",
   "execution_count": 49,
   "id": "943111b1",
   "metadata": {
    "scrolled": true
   },
   "outputs": [
    {
     "name": "stdout",
     "output_type": "stream",
     "text": [
      "Training Set: \n",
      "1    24838\n",
      "0    24755\n",
      "Name: risk_flag, dtype: int64\n",
      "Normalized:\n",
      "1   0.501\n",
      "0   0.499\n",
      "Name: risk_flag, dtype: float64\n",
      "\n",
      "\n",
      "Test Set:\n",
      "0    6241\n",
      "1    6158\n",
      "Name: risk_flag, dtype: int64\n",
      "Normalized:\n",
      "0   0.503\n",
      "1   0.497\n",
      "Name: risk_flag, dtype: float64\n"
     ]
    }
   ],
   "source": [
    "# Train Set\n",
    "print('Training Set: ')\n",
    "print(y_train.value_counts())\n",
    "print('Normalized:')\n",
    "print(y_train.value_counts(normalize=True))\n",
    "print('\\n')\n",
    "# Test set\n",
    "print('Test Set:')\n",
    "print(y_test.value_counts())\n",
    "print('Normalized:')\n",
    "print(y_test.value_counts(normalize=True))"
   ]
  },
  {
   "cell_type": "markdown",
   "id": "c2a2d87c",
   "metadata": {},
   "source": [
    "### What is the best metric to use to maximize the reults?\n",
    "Because classes in this dataset are imbalanced, accuracty was not used at a metric. An accuracy score would have the potential to be high and misleading. Insterad, the **recall score and F1 score were considered**.\n",
    "\n",
    "In statistics, a type I error is a false-positive result, meaning that a null hypothesis is rejected when it is actually true. A type II error is a false-negative result, meaning that a null hypethesis is rejeced when it is actually true.\n",
    "\n",
    "A false negative would mean that the reality of a customer canceling would have been overlooked.\n",
    "\n",
    "My goal is to *build a classifier that minimizes false negatives*."
   ]
  },
  {
   "cell_type": "markdown",
   "id": "b625a82b",
   "metadata": {},
   "source": [
    "### Logistic Regression Model\n",
    "An ROC Curve can be used to show the diagnostic ability of a classification model. This curve plots two parameters: true positive rate and false positive rate.\n",
    "\n",
    "The Area Under the ROC Curve (AUC) evaluates how well a logistic regression model classifies positive and negative outcomes at all possible cutoffs. It can range from 0.5 to 1, and the larger it is the better."
   ]
  },
  {
   "cell_type": "code",
   "execution_count": 50,
   "id": "88c282d6",
   "metadata": {},
   "outputs": [],
   "source": [
    "# Initial Model\n",
    "logreg = LogisticRegression(fit_intercept=False, solver='liblinear')"
   ]
  },
  {
   "cell_type": "code",
   "execution_count": 51,
   "id": "13389c3e",
   "metadata": {
    "scrolled": true
   },
   "outputs": [
    {
     "name": "stdout",
     "output_type": "stream",
     "text": [
      "AUC: 0.521949814943652\n"
     ]
    },
    {
     "data": {
      "image/png": "[encoded data removed]",
      "text/plain": [
       "<Figure size 720x576 with 1 Axes>"
      ]
     },
     "metadata": {},
     "output_type": "display_data"
    }
   ],
   "source": [
    "# Probability scores for test set\n",
    "y_score = logreg.fit(X_train, y_train).decision_function(X_test)\n",
    "\n",
    "# False positive rate and true positive rate\n",
    "fpr, tpr, thresholds = roc_curve(y_test, y_score)\n",
    "\n",
    "# Initiate Seaborn\n",
    "sns.set_style('darkgrid', {'axes.facecolor': '0.9'})\n",
    "\n",
    "# Print AUC (area under curve)\n",
    "\n",
    "print('AUC: {}'.format(auc(fpr, tpr)))\n",
    "\n",
    "# Plot the ROC curve\n",
    "plt.figure(figsize=(10, 8))\n",
    "lw = 2\n",
    "plt.plot(fpr, tpr, color = 'red',\n",
    "         lw=lw, label='ROC curve')\n",
    "plt.plot([0,1], [0,1], color = 'navy', lw=lw, linestyle ='--')\n",
    "plt.xlim([0.0,1.0])\n",
    "plt.ylim([0.0, 1.05])\n",
    "plt.yticks([i/20.0 for i in range(21)])\n",
    "plt.xticks([i/20.0 for i in range(21)])\n",
    "plt.xlabel('False Positive Rate')\n",
    "plt.ylabel('True Positive Rate')\n",
    "plt.title('Receiver operating characteristic (ROC) Curve')\n",
    "plt.legend(loc='lower right')\n",
    "plt.show()"
   ]
  },
  {
   "cell_type": "markdown",
   "id": "e29fe7ee",
   "metadata": {},
   "source": [
    "AUC curve is .5. This indicates that the model is porrly classifying true positive and false postives."
   ]
  },
  {
   "cell_type": "code",
   "execution_count": 52,
   "id": "15971061",
   "metadata": {},
   "outputs": [],
   "source": [
    "y_pred = logreg.predict(X_test)"
   ]
  },
  {
   "cell_type": "code",
   "execution_count": 53,
   "id": "bf8d2612",
   "metadata": {},
   "outputs": [
    {
     "data": {
      "text/plain": [
       "array([[3831, 2410],\n",
       "       [3515, 2643]])"
      ]
     },
     "execution_count": 53,
     "metadata": {},
     "output_type": "execute_result"
    }
   ],
   "source": [
    "# Create a confustion matrix to measure recall, precision, accuracy, and the AUC-ROC curve\n",
    "cm = confusion_matrix(y_test, y_pred)\n",
    "cm"
   ]
  },
  {
   "cell_type": "code",
   "execution_count": 54,
   "id": "8d79b5cc",
   "metadata": {},
   "outputs": [
    {
     "data": {
      "text/plain": [
       "0.4291977914907438"
      ]
     },
     "execution_count": 54,
     "metadata": {},
     "output_type": "execute_result"
    }
   ],
   "source": [
    "# Test recall to predict how good the model is at predicting cancellations (type 2 errors)\n",
    "recall_score(y_test, y_pred)"
   ]
  },
  {
   "cell_type": "markdown",
   "id": "eb55a16a",
   "metadata": {},
   "source": [
    "The model has a very low recall score, indicating imbalanced classes.\n"
   ]
  },
  {
   "cell_type": "markdown",
   "id": "0dc40cf1",
   "metadata": {},
   "source": [
    "### K-Nearest Neighbors Model"
   ]
  },
  {
   "cell_type": "code",
   "execution_count": 55,
   "id": "ed7405d0",
   "metadata": {},
   "outputs": [],
   "source": [
    "# Load classifier and fit data\n",
    "clf = KNeighborsClassifier()\n",
    "clf.fit(X_train, y_train)\n",
    "test_preds = clf.predict(X_test)"
   ]
  },
  {
   "cell_type": "code",
   "execution_count": 56,
   "id": "c2ba7550",
   "metadata": {
    "scrolled": true
   },
   "outputs": [
    {
     "name": "stdout",
     "output_type": "stream",
     "text": [
      "Precision Score: 0.8402948402948403\n",
      "Recall Score: 0.8330626826891848\n",
      "Accuracy Score: 0.838454714089846\n",
      "F1 Score: 0.8366631330017125\n"
     ]
    }
   ],
   "source": [
    "# Create metric function\n",
    "def print_metrics(labels, preds):\n",
    "    print(\"Precision Score: {}\".format(precision_score(labels, preds)))\n",
    "    print(\"Recall Score: {}\".format(recall_score(labels, preds)))\n",
    "    print(\"Accuracy Score: {}\".format(accuracy_score(labels, preds)))\n",
    "    print(\"F1 Score: {}\".format(f1_score(labels, preds)))\n",
    "    \n",
    "print_metrics(y_test, test_preds)"
   ]
  },
  {
   "cell_type": "markdown",
   "id": "6bdc23c7",
   "metadata": {},
   "source": [
    "Precision and recall of k-nearest neighbors is significantly higher than logistic regression."
   ]
  },
  {
   "cell_type": "markdown",
   "id": "4db8504c",
   "metadata": {},
   "source": [
    "### Random Forest\n",
    "This classifier fits a number of decision tree classifiers on various sub-samples of the data and uses averaging to improve accuracy and control over-fitting."
   ]
  },
  {
   "cell_type": "code",
   "execution_count": 57,
   "id": "813c5e7c",
   "metadata": {},
   "outputs": [],
   "source": [
    "SEED = 1"
   ]
  },
  {
   "cell_type": "code",
   "execution_count": 58,
   "id": "20a74ec5",
   "metadata": {},
   "outputs": [
    {
     "data": {
      "text/plain": [
       "RandomForestClassifier(bootstrap=True, class_weight=None, criterion='gini',\n",
       "                       max_depth=11, max_features='auto', max_leaf_nodes=None,\n",
       "                       min_impurity_decrease=0.0, min_impurity_split=None,\n",
       "                       min_samples_leaf=1, min_samples_split=2,\n",
       "                       min_weight_fraction_leaf=0.0, n_estimators=20,\n",
       "                       n_jobs=None, oob_score=False, random_state=1, verbose=0,\n",
       "                       warm_start=False)"
      ]
     },
     "execution_count": 58,
     "metadata": {},
     "output_type": "execute_result"
    }
   ],
   "source": [
    "# Load classifier and fit data\n",
    "forest = RandomForestClassifier(n_estimators=20, max_depth= 11, random_state = SEED)\n",
    "forest.fit(X_train, y_train)\n"
   ]
  },
  {
   "cell_type": "code",
   "execution_count": 59,
   "id": "61125a06",
   "metadata": {},
   "outputs": [],
   "source": [
    "y_pred = forest.predict(X_test)\n"
   ]
  },
  {
   "cell_type": "code",
   "execution_count": 60,
   "id": "f6170a3a",
   "metadata": {},
   "outputs": [
    {
     "name": "stdout",
     "output_type": "stream",
     "text": [
      "[[4229 2012]\n",
      " [1846 4312]]\n",
      "              precision    recall  f1-score   support\n",
      "\n",
      "           0       0.70      0.68      0.69      6241\n",
      "           1       0.68      0.70      0.69      6158\n",
      "\n",
      "    accuracy                           0.69     12399\n",
      "   macro avg       0.69      0.69      0.69     12399\n",
      "weighted avg       0.69      0.69      0.69     12399\n",
      "\n"
     ]
    }
   ],
   "source": [
    "# Print confusion matrix\n",
    "print(confusion_matrix(y_test, y_pred))\n",
    "print(classification_report(y_test, y_pred))  "
   ]
  },
  {
   "cell_type": "code",
   "execution_count": 61,
   "id": "70393791",
   "metadata": {},
   "outputs": [
    {
     "data": {
      "text/plain": [
       "0.7231060835198516"
      ]
     },
     "execution_count": 61,
     "metadata": {},
     "output_type": "execute_result"
    }
   ],
   "source": [
    "# Get training and testing scores\n",
    "forest.score(X_train, y_train)"
   ]
  },
  {
   "cell_type": "code",
   "execution_count": 62,
   "id": "1480790e",
   "metadata": {},
   "outputs": [
    {
     "data": {
      "text/plain": [
       "0.6888458746673118"
      ]
     },
     "execution_count": 62,
     "metadata": {},
     "output_type": "execute_result"
    }
   ],
   "source": [
    "forest.score(X_test, y_test)"
   ]
  },
  {
   "cell_type": "code",
   "execution_count": 63,
   "id": "d1b62bb1",
   "metadata": {},
   "outputs": [
    {
     "data": {
      "text/plain": [
       "0.7002273465410848"
      ]
     },
     "execution_count": 63,
     "metadata": {},
     "output_type": "execute_result"
    }
   ],
   "source": [
    "# Get recall score\n",
    "recall_score(y_test, y_pred)"
   ]
  },
  {
   "cell_type": "code",
   "execution_count": 64,
   "id": "abce6b30",
   "metadata": {},
   "outputs": [
    {
     "data": {
      "image/png": "[encoded data removed]",
      "text/plain": [
       "<Figure size 576x576 with 1 Axes>"
      ]
     },
     "metadata": {},
     "output_type": "display_data"
    }
   ],
   "source": [
    "# Plot feature importances on training data\n",
    "def plot_feature_importances(model):\n",
    "    n_features = X_train.shape[1]\n",
    "    plt.figure(figsize=(8,8))\n",
    "    plt.barh(range(n_features), model.feature_importances_, align='center') \n",
    "    plt.yticks(np.arange(n_features), X_train.columns.values) \n",
    "    plt.xlabel('Feature importance')\n",
    "    plt.ylabel('Feature')\n",
    "\n",
    "plot_feature_importances(forest)"
   ]
  },
  {
   "cell_type": "code",
   "execution_count": 65,
   "id": "2c0d037d",
   "metadata": {},
   "outputs": [
    {
     "data": {
      "image/png": "[encoded data removed]",
      "text/plain": [
       "<Figure size 576x576 with 1 Axes>"
      ]
     },
     "metadata": {},
     "output_type": "display_data"
    }
   ],
   "source": [
    "# Plot feature importances on testing data\n",
    "def plot_feature_importances(model):\n",
    "    n_features = X_test.shape[1]\n",
    "    plt.figure(figsize=(8,8))\n",
    "    plt.barh(range(n_features), model.feature_importances_, align='center') \n",
    "    plt.yticks(np.arange(n_features), X_test.columns.values) \n",
    "    plt.xlabel('Feature importance')\n",
    "    plt.ylabel('Feature')\n",
    "\n",
    "plot_feature_importances(forest)"
   ]
  },
  {
   "cell_type": "markdown",
   "id": "18ae90fb",
   "metadata": {},
   "source": [
    "### Bagged Trees + Decision Tree Model\n",
    "Decision trees have low bias but high variance, which can lead to overfitting and drastic output changes when small input changes are made. A bagging classifier can be used to reduce variance in the dataset.\n",
    "\n",
    "The ensemble method for decision trees uses Bagging and the Subspace Sampling method to create variance among the trees. For each tree, we sample two-thirds of the training data and the remaining third is used to calculate the out-of-bag error."
   ]
  },
  {
   "cell_type": "code",
   "execution_count": 66,
   "id": "ed4c0382",
   "metadata": {},
   "outputs": [],
   "source": [
    "# Load bagged tree classifier\n",
    "bagged_tree =  BaggingClassifier(DecisionTreeClassifier(criterion='gini', max_depth=4), \n",
    "                                 n_estimators=20, random_state = SEED)"
   ]
  },
  {
   "cell_type": "code",
   "execution_count": 67,
   "id": "1943c1d8",
   "metadata": {},
   "outputs": [
    {
     "data": {
      "text/plain": [
       "BaggingClassifier(base_estimator=DecisionTreeClassifier(class_weight=None,\n",
       "                                                        criterion='gini',\n",
       "                                                        max_depth=4,\n",
       "                                                        max_features=None,\n",
       "                                                        max_leaf_nodes=None,\n",
       "                                                        min_impurity_decrease=0.0,\n",
       "                                                        min_impurity_split=None,\n",
       "                                                        min_samples_leaf=1,\n",
       "                                                        min_samples_split=2,\n",
       "                                                        min_weight_fraction_leaf=0.0,\n",
       "                                                        presort=False,\n",
       "                                                        random_state=None,\n",
       "                                                        splitter='best'),\n",
       "                  bootstrap=True, bootstrap_features=False, max_features=1.0,\n",
       "                  max_samples=1.0, n_estimators=20, n_jobs=None,\n",
       "                  oob_score=False, random_state=1, verbose=0, warm_start=False)"
      ]
     },
     "execution_count": 67,
     "metadata": {},
     "output_type": "execute_result"
    }
   ],
   "source": [
    "# Fit the classifier to the training and testing data\n",
    "bagged_tree.fit(X_train, y_train)"
   ]
  },
  {
   "cell_type": "code",
   "execution_count": 68,
   "id": "eb68ce0c",
   "metadata": {},
   "outputs": [
    {
     "data": {
      "text/plain": [
       "0.5618333232512653"
      ]
     },
     "execution_count": 68,
     "metadata": {},
     "output_type": "execute_result"
    }
   ],
   "source": [
    "# Return the mean accuracy of training set\n",
    "bagged_tree.score(X_train, y_train)"
   ]
  },
  {
   "cell_type": "code",
   "execution_count": 69,
   "id": "19c1af6b",
   "metadata": {},
   "outputs": [],
   "source": [
    "y_pred = bagged_tree.predict(X_test)"
   ]
  },
  {
   "cell_type": "code",
   "execution_count": 70,
   "id": "817650b0",
   "metadata": {},
   "outputs": [
    {
     "name": "stdout",
     "output_type": "stream",
     "text": [
      "[[4284 1957]\n",
      " [3513 2645]]\n",
      "              precision    recall  f1-score   support\n",
      "\n",
      "           0       0.55      0.69      0.61      6241\n",
      "           1       0.57      0.43      0.49      6158\n",
      "\n",
      "    accuracy                           0.56     12399\n",
      "   macro avg       0.56      0.56      0.55     12399\n",
      "weighted avg       0.56      0.56      0.55     12399\n",
      "\n"
     ]
    }
   ],
   "source": [
    "#Print the confusion matrix\n",
    "print(confusion_matrix(y_test, y_pred))\n",
    "print(classification_report(y_test, y_pred))"
   ]
  },
  {
   "cell_type": "code",
   "execution_count": 71,
   "id": "ab8c1e6b",
   "metadata": {},
   "outputs": [
    {
     "data": {
      "text/plain": [
       "0.429522572263722"
      ]
     },
     "execution_count": 71,
     "metadata": {},
     "output_type": "execute_result"
    }
   ],
   "source": [
    "# Get recall score\n",
    "recall_score(y_test, y_pred)"
   ]
  },
  {
   "cell_type": "code",
   "execution_count": 72,
   "id": "af72607e",
   "metadata": {},
   "outputs": [],
   "source": [
    "# Optimizing for Entropy (the amount of uncertainty in possible outcomes)\n",
    "bagged_tree =  BaggingClassifier(DecisionTreeClassifier(criterion='entropy', max_depth=4), \n",
    "                                 n_estimators=20, random_state = SEED)"
   ]
  },
  {
   "cell_type": "code",
   "execution_count": 73,
   "id": "4e434133",
   "metadata": {},
   "outputs": [
    {
     "data": {
      "text/plain": [
       "BaggingClassifier(base_estimator=DecisionTreeClassifier(class_weight=None,\n",
       "                                                        criterion='entropy',\n",
       "                                                        max_depth=4,\n",
       "                                                        max_features=None,\n",
       "                                                        max_leaf_nodes=None,\n",
       "                                                        min_impurity_decrease=0.0,\n",
       "                                                        min_impurity_split=None,\n",
       "                                                        min_samples_leaf=1,\n",
       "                                                        min_samples_split=2,\n",
       "                                                        min_weight_fraction_leaf=0.0,\n",
       "                                                        presort=False,\n",
       "                                                        random_state=None,\n",
       "                                                        splitter='best'),\n",
       "                  bootstrap=True, bootstrap_features=False, max_features=1.0,\n",
       "                  max_samples=1.0, n_estimators=20, n_jobs=None,\n",
       "                  oob_score=False, random_state=1, verbose=0, warm_start=False)"
      ]
     },
     "execution_count": 73,
     "metadata": {},
     "output_type": "execute_result"
    }
   ],
   "source": [
    "bagged_tree.fit(X_train, y_train)"
   ]
  },
  {
   "cell_type": "code",
   "execution_count": 74,
   "id": "cc1ac685",
   "metadata": {},
   "outputs": [
    {
     "data": {
      "text/plain": [
       "0.5640312140826327"
      ]
     },
     "execution_count": 74,
     "metadata": {},
     "output_type": "execute_result"
    }
   ],
   "source": [
    "# Get the recall score for the training and testing data\n",
    "bagged_tree.score(X_train, y_train)"
   ]
  },
  {
   "cell_type": "code",
   "execution_count": 75,
   "id": "fa0a2d7a",
   "metadata": {},
   "outputs": [
    {
     "data": {
      "text/plain": [
       "0.5623034115654488"
      ]
     },
     "execution_count": 75,
     "metadata": {},
     "output_type": "execute_result"
    }
   ],
   "source": [
    "bagged_tree.score(X_test, y_test)"
   ]
  },
  {
   "cell_type": "code",
   "execution_count": 76,
   "id": "63590a21",
   "metadata": {},
   "outputs": [],
   "source": [
    "y_pred = bagged_tree.predict(X_test)"
   ]
  },
  {
   "cell_type": "code",
   "execution_count": 77,
   "id": "edab9752",
   "metadata": {},
   "outputs": [
    {
     "name": "stdout",
     "output_type": "stream",
     "text": [
      "[[4200 2041]\n",
      " [3386 2772]]\n",
      "              precision    recall  f1-score   support\n",
      "\n",
      "           0       0.55      0.67      0.61      6241\n",
      "           1       0.58      0.45      0.51      6158\n",
      "\n",
      "    accuracy                           0.56     12399\n",
      "   macro avg       0.56      0.56      0.56     12399\n",
      "weighted avg       0.56      0.56      0.56     12399\n",
      "\n"
     ]
    }
   ],
   "source": [
    "#Print the confision matrix\n",
    "print(confusion_matrix(y_test, y_pred))\n",
    "print(classification_report(y_test, y_pred))"
   ]
  },
  {
   "cell_type": "code",
   "execution_count": 78,
   "id": "39e210c7",
   "metadata": {},
   "outputs": [
    {
     "data": {
      "text/plain": [
       "0.4501461513478402"
      ]
     },
     "execution_count": 78,
     "metadata": {},
     "output_type": "execute_result"
    }
   ],
   "source": [
    "recall_score(y_test, y_pred)"
   ]
  },
  {
   "cell_type": "code",
   "execution_count": 79,
   "id": "28741b4b",
   "metadata": {},
   "outputs": [
    {
     "data": {
      "image/png": "[encoded data removed]",
      "text/plain": [
       "<Figure size 864x432 with 1 Axes>"
      ]
     },
     "metadata": {},
     "output_type": "display_data"
    }
   ],
   "source": [
    "# Identify the optimal tree depth for given data\n",
    "max_depths = np.linspace(1, 50, 50, endpoint=True)\n",
    "train_results = []\n",
    "test_results = []\n",
    "for max_depth in max_depths:\n",
    "    dt = BaggingClassifier(DecisionTreeClassifier(criterion='entropy', random_state = SEED), n_estimators=20)   \n",
    "    dt.fit(X_train, y_train)\n",
    "    train_pred = dt.predict(X_train)\n",
    "    false_positive_rate, true_positive_rate, thresholds = roc_curve(y_train, train_pred)\n",
    "    roc_auc = auc(false_positive_rate, true_positive_rate)\n",
    "   # Add auc score to previous train results\n",
    "    train_results.append(roc_auc)\n",
    "    y_pred = dt.predict(X_test)\n",
    "    false_positive_rate, true_positive_rate, thresholds = roc_curve(y_test, y_pred)\n",
    "    roc_auc = auc(false_positive_rate, true_positive_rate)\n",
    "   # Add auc score to previous test results\n",
    "    test_results.append(roc_auc)\n",
    "\n",
    "plt.figure(figsize=(12,6))\n",
    "plt.plot(max_depths, train_results, 'b', label='Train AUC')\n",
    "plt.plot(max_depths, test_results, 'r', label='Test AUC')\n",
    "plt.ylabel('AUC score')\n",
    "plt.xlabel('Tree depth')\n",
    "plt.legend()\n",
    "plt.show()"
   ]
  },
  {
   "cell_type": "code",
   "execution_count": 80,
   "id": "1afdc003",
   "metadata": {},
   "outputs": [],
   "source": [
    "#Load classifier with new maximum depth\n",
    "bagged_tree =  BaggingClassifier(DecisionTreeClassifier(criterion='entropy', max_depth= 5), \n",
    "                                 n_estimators=20, random_state = SEED)\n"
   ]
  },
  {
   "cell_type": "code",
   "execution_count": 81,
   "id": "bc3c0659",
   "metadata": {},
   "outputs": [
    {
     "data": {
      "text/plain": [
       "BaggingClassifier(base_estimator=DecisionTreeClassifier(class_weight=None,\n",
       "                                                        criterion='entropy',\n",
       "                                                        max_depth=5,\n",
       "                                                        max_features=None,\n",
       "                                                        max_leaf_nodes=None,\n",
       "                                                        min_impurity_decrease=0.0,\n",
       "                                                        min_impurity_split=None,\n",
       "                                                        min_samples_leaf=1,\n",
       "                                                        min_samples_split=2,\n",
       "                                                        min_weight_fraction_leaf=0.0,\n",
       "                                                        presort=False,\n",
       "                                                        random_state=None,\n",
       "                                                        splitter='best'),\n",
       "                  bootstrap=True, bootstrap_features=False, max_features=1.0,\n",
       "                  max_samples=1.0, n_estimators=20, n_jobs=None,\n",
       "                  oob_score=False, random_state=1, verbose=0, warm_start=False)"
      ]
     },
     "execution_count": 81,
     "metadata": {},
     "output_type": "execute_result"
    }
   ],
   "source": [
    "#Fit classifier to the training and testing data\n",
    "bagged_tree.fit(X_train, y_train)"
   ]
  },
  {
   "cell_type": "code",
   "execution_count": 82,
   "id": "10b1fb5c",
   "metadata": {},
   "outputs": [],
   "source": [
    "y_pred = bagged_tree.predict(X_test)"
   ]
  },
  {
   "cell_type": "code",
   "execution_count": 83,
   "id": "9f86ca2b",
   "metadata": {},
   "outputs": [
    {
     "name": "stdout",
     "output_type": "stream",
     "text": [
      "[[4154 2087]\n",
      " [3191 2967]]\n",
      "              precision    recall  f1-score   support\n",
      "\n",
      "           0       0.57      0.67      0.61      6241\n",
      "           1       0.59      0.48      0.53      6158\n",
      "\n",
      "    accuracy                           0.57     12399\n",
      "   macro avg       0.58      0.57      0.57     12399\n",
      "weighted avg       0.58      0.57      0.57     12399\n",
      "\n"
     ]
    }
   ],
   "source": [
    "# Optimizing the maximum depth for increased recall\n",
    "print(confusion_matrix(y_test, y_pred))\n",
    "print(classification_report(y_test, y_pred))"
   ]
  },
  {
   "cell_type": "code",
   "execution_count": 84,
   "id": "bcd93882",
   "metadata": {},
   "outputs": [
    {
     "data": {
      "text/plain": [
       "0.4818122767132186"
      ]
     },
     "execution_count": 84,
     "metadata": {},
     "output_type": "execute_result"
    }
   ],
   "source": [
    "recall_score(y_test, y_pred)"
   ]
  },
  {
   "cell_type": "markdown",
   "id": "4d58d53b",
   "metadata": {},
   "source": [
    "### AdaBoost Model\n",
    "This will be the first attempt to \"boost\" the data.\n",
    "\n",
    "Adaboost creates new classifiers by continually influencing the distribution of the data sampled to train each successive learner. The prediction error in this classification model measures how well the model predicts the target variable (risk_flag)."
   ]
  },
  {
   "cell_type": "code",
   "execution_count": 85,
   "id": "9694e214",
   "metadata": {},
   "outputs": [],
   "source": [
    "# Load the classifier\n",
    "adaboost_clf = AdaBoostClassifier(random_state= SEED)"
   ]
  },
  {
   "cell_type": "code",
   "execution_count": 86,
   "id": "0b1b1a72",
   "metadata": {},
   "outputs": [
    {
     "data": {
      "text/plain": [
       "AdaBoostClassifier(algorithm='SAMME.R', base_estimator=None, learning_rate=1.0,\n",
       "                   n_estimators=50, random_state=1)"
      ]
     },
     "execution_count": 86,
     "metadata": {},
     "output_type": "execute_result"
    }
   ],
   "source": [
    "# Fit the classifier to the training and testing data\n",
    "adaboost_clf.fit(X_train, y_train)"
   ]
  },
  {
   "cell_type": "code",
   "execution_count": 87,
   "id": "f299d15e",
   "metadata": {},
   "outputs": [],
   "source": [
    "adaboost_train_preds = adaboost_clf.predict(X_train)\n",
    "adaboost_test_preds = adaboost_clf.predict(X_test)"
   ]
  },
  {
   "cell_type": "code",
   "execution_count": 88,
   "id": "4260dd73",
   "metadata": {},
   "outputs": [
    {
     "name": "stdout",
     "output_type": "stream",
     "text": [
      "Precision Score: 0.5559353504663037\n",
      "Recall Score: 0.5303969723810291\n",
      "Accuracy Score: 0.5526183130683766\n",
      "F1 Score: 0.5428659730091686\n"
     ]
    }
   ],
   "source": [
    "# Print training and testing scores\n",
    "\n",
    "print_metrics(y_train, adaboost_train_preds)"
   ]
  },
  {
   "cell_type": "code",
   "execution_count": 89,
   "id": "315aa338",
   "metadata": {},
   "outputs": [
    {
     "name": "stdout",
     "output_type": "stream",
     "text": [
      "Precision Score: 0.5465546218487395\n",
      "Recall Score: 0.5280935368626177\n",
      "Accuracy Score: 0.548028066779579\n",
      "F1 Score: 0.5371655104063429\n"
     ]
    }
   ],
   "source": [
    "print_metrics(y_test, adaboost_test_preds)"
   ]
  },
  {
   "cell_type": "code",
   "execution_count": 90,
   "id": "358833bd",
   "metadata": {},
   "outputs": [
    {
     "data": {
      "text/plain": [
       "0.4818122767132186"
      ]
     },
     "execution_count": 90,
     "metadata": {},
     "output_type": "execute_result"
    }
   ],
   "source": [
    "# Print recall score\n",
    "recall_score(y_test, y_pred)"
   ]
  },
  {
   "cell_type": "markdown",
   "id": "9638df1c",
   "metadata": {},
   "source": [
    "### Gradient Boost Model\n",
    "This will be the second attempt to boost the data. Gradient Boost uses the next possible best model combined with previous models to minimize the overall prediction error. The prediction error in this classification model measures how well the model predicts the target variable (risk_churn)."
   ]
  },
  {
   "cell_type": "code",
   "execution_count": 91,
   "id": "55e64b49",
   "metadata": {},
   "outputs": [],
   "source": [
    "# Load necessary package\n",
    "gbt_clf = GradientBoostingClassifier(random_state=SEED)"
   ]
  },
  {
   "cell_type": "code",
   "execution_count": 92,
   "id": "d7495ac9",
   "metadata": {},
   "outputs": [
    {
     "data": {
      "text/plain": [
       "GradientBoostingClassifier(criterion='friedman_mse', init=None,\n",
       "                           learning_rate=0.1, loss='deviance', max_depth=3,\n",
       "                           max_features=None, max_leaf_nodes=None,\n",
       "                           min_impurity_decrease=0.0, min_impurity_split=None,\n",
       "                           min_samples_leaf=1, min_samples_split=2,\n",
       "                           min_weight_fraction_leaf=0.0, n_estimators=100,\n",
       "                           n_iter_no_change=None, presort='auto',\n",
       "                           random_state=1, subsample=1.0, tol=0.0001,\n",
       "                           validation_fraction=0.1, verbose=0,\n",
       "                           warm_start=False)"
      ]
     },
     "execution_count": 92,
     "metadata": {},
     "output_type": "execute_result"
    }
   ],
   "source": [
    "# Fit to training and testing data\n",
    "gbt_clf.fit(X_train, y_train)"
   ]
  },
  {
   "cell_type": "code",
   "execution_count": 93,
   "id": "9911f72a",
   "metadata": {},
   "outputs": [],
   "source": [
    "# Get predictions\n",
    "gbt_clf_train_preds = gbt_clf.predict(X_train)\n",
    "gbt_clf_test_preds = gbt_clf.predict(X_test)"
   ]
  },
  {
   "cell_type": "code",
   "execution_count": 94,
   "id": "0d256b8d",
   "metadata": {},
   "outputs": [
    {
     "name": "stdout",
     "output_type": "stream",
     "text": [
      "Precision Score: 0.6229898749255509\n",
      "Recall Score: 0.631693373057412\n",
      "Accuracy Score: 0.6240800112919161\n",
      "F1 Score: 0.6273114367391\n"
     ]
    }
   ],
   "source": [
    "# Print training and testing scores\n",
    "print_metrics(y_train, gbt_clf_train_preds)"
   ]
  },
  {
   "cell_type": "code",
   "execution_count": 95,
   "id": "5fa6628a",
   "metadata": {},
   "outputs": [
    {
     "name": "stdout",
     "output_type": "stream",
     "text": [
      "Precision Score: 0.6002225401367032\n",
      "Recall Score: 0.6131860993829166\n",
      "Accuracy Score: 0.6050487942576014\n",
      "F1 Score: 0.6066350710900473\n"
     ]
    }
   ],
   "source": [
    "print_metrics(y_test, gbt_clf_test_preds)"
   ]
  },
  {
   "cell_type": "code",
   "execution_count": 96,
   "id": "b4c634c2",
   "metadata": {},
   "outputs": [
    {
     "name": "stdout",
     "output_type": "stream",
     "text": [
      "              precision    recall  f1-score   support\n",
      "\n",
      "           0       0.61      0.60      0.60      6241\n",
      "           1       0.60      0.61      0.61      6158\n",
      "\n",
      "    accuracy                           0.61     12399\n",
      "   macro avg       0.61      0.61      0.61     12399\n",
      "weighted avg       0.61      0.61      0.61     12399\n",
      "\n"
     ]
    }
   ],
   "source": [
    "# Get classification report\n",
    "gbt_classification_report = classification_report(y_test, gbt_clf_test_preds)\n",
    "print(gbt_classification_report)"
   ]
  },
  {
   "cell_type": "code",
   "execution_count": 97,
   "id": "49c43a28",
   "metadata": {},
   "outputs": [
    {
     "data": {
      "text/plain": [
       "0.4818122767132186"
      ]
     },
     "execution_count": 97,
     "metadata": {},
     "output_type": "execute_result"
    }
   ],
   "source": [
    "recall_score(y_test, y_pred)"
   ]
  },
  {
   "cell_type": "markdown",
   "id": "9c8c4059",
   "metadata": {},
   "source": [
    "### XBoost Model"
   ]
  },
  {
   "cell_type": "code",
   "execution_count": 98,
   "id": "a391aa62",
   "metadata": {},
   "outputs": [
    {
     "name": "stdout",
     "output_type": "stream",
     "text": [
      "Training Accuracy: 61.54%\n",
      "Validation accuracy: 59.92%\n",
      "Training Recall: 62.36%\n",
      "Test Recall: 60.52%\n"
     ]
    }
   ],
   "source": [
    "# Load and fit the XBoost Classifier to the data\n",
    "# Print recall scores\n",
    "\n",
    "xg = XGBClassifier(random_state = SEED)\n",
    "\n",
    "xg.fit(X_train, y_train)\n",
    "\n",
    "training_preds = xg.predict(X_train)\n",
    "test_preds = xg.predict(X_test)\n",
    "\n",
    "training_accuracy = accuracy_score(y_train, training_preds)\n",
    "test_accuracy = accuracy_score(y_test, test_preds)\n",
    "train_recall = recall_score(y_train, training_preds)\n",
    "test_recall = recall_score(y_test, test_preds)\n",
    "\n",
    "print('Training Accuracy: {:.4}%'.format(training_accuracy * 100))\n",
    "print('Validation accuracy: {:.4}%'.format(test_accuracy * 100))\n",
    "print('Training Recall: {:.4}%'.format(train_recall * 100))\n",
    "print('Test Recall: {:.4}%'.format(test_recall * 100))"
   ]
  },
  {
   "cell_type": "code",
   "execution_count": 99,
   "id": "8fe03cfb",
   "metadata": {},
   "outputs": [],
   "source": [
    "# Tune the model with GridsearchCV\n",
    "\n",
    "param_grid = {\n",
    "    'learning_rate': [0.1, 0.2],\n",
    "    'max_depth': [6],\n",
    "    'min_child_weight': [1, 2],\n",
    "    'subsample': [0.5, 0.7],\n",
    "    'n_estimators': [100],\n",
    "}"
   ]
  },
  {
   "cell_type": "code",
   "execution_count": 100,
   "id": "a5881739",
   "metadata": {},
   "outputs": [
    {
     "name": "stdout",
     "output_type": "stream",
     "text": [
      "Grid Search found the following optimal parameters: \n",
      "learning_rate: 0.2\n",
      "max_depth: 6\n",
      "min_child_weight: 1\n",
      "n_estimators: 100\n",
      "subsample: 0.7\n",
      "\n",
      "Training Accuracy: 83.27%\n",
      "Validation accuracy: 79.76%\n",
      "Training Recall: 83.53%\n",
      "Test Recall: 79.7%\n"
     ]
    }
   ],
   "source": [
    "grid_xg = GridSearchCV(xg, param_grid, scoring='accuracy', cv=None, n_jobs=1)\n",
    "grid_xg.fit(X_train, y_train)\n",
    "\n",
    "best_parameters = grid_xg.best_params_\n",
    "\n",
    "print('Grid Search found the following optimal parameters: ')\n",
    "for param_name in sorted(best_parameters.keys()):\n",
    "    print('%s: %r' % (param_name, best_parameters[param_name]))\n",
    "\n",
    "training_preds = grid_xg.predict(X_train)\n",
    "test_preds = grid_xg.predict(X_test)\n",
    "training_accuracy = accuracy_score(y_train, training_preds)\n",
    "test_accuracy = accuracy_score(y_test, test_preds)\n",
    "train_recall = recall_score(y_train, training_preds)\n",
    "test_recall = recall_score(y_test, test_preds)\n",
    "\n",
    "print('')\n",
    "print('Training Accuracy: {:.4}%'.format(training_accuracy * 100))\n",
    "print('Validation accuracy: {:.4}%'.format(test_accuracy * 100))\n",
    "print('Training Recall: {:.4}%'.format(train_recall * 100))\n",
    "print('Test Recall: {:.4}%'.format(test_recall * 100))"
   ]
  },
  {
   "cell_type": "code",
   "execution_count": 101,
   "id": "0a6e7359",
   "metadata": {},
   "outputs": [
    {
     "name": "stdout",
     "output_type": "stream",
     "text": [
      "Training Accuracy: 83.27%\n",
      "Validation accuracy: 79.76%\n",
      "Training Recall: 83.53%\n",
      "Test Recall: 79.7%\n"
     ]
    }
   ],
   "source": [
    "# Increase optimal parameters\n",
    "xg = XGBClassifier(max_depth = 6, learning_rate = .2, n_estimators = 100, min_child_weight = 1, subsample = .7, random_state = SEED)\n",
    "\n",
    "xg.fit(X_train, y_train)\n",
    "\n",
    "training_preds = xg.predict(X_train)\n",
    "test_preds = xg.predict(X_test)\n",
    "training_accuracy = accuracy_score(y_train, training_preds)\n",
    "test_accuracy = accuracy_score(y_test, test_preds)\n",
    "train_recall = recall_score(y_train, training_preds)\n",
    "test_recall = recall_score(y_test, test_preds)\n",
    "\n",
    "print('Training Accuracy: {:.4}%'.format(training_accuracy * 100))\n",
    "print('Validation accuracy: {:.4}%'.format(test_accuracy * 100))\n",
    "print('Training Recall: {:.4}%'.format(train_recall * 100))\n",
    "print('Test Recall: {:.4}%'.format(test_recall * 100))"
   ]
  },
  {
   "cell_type": "code",
   "execution_count": 102,
   "id": "bffce28b",
   "metadata": {},
   "outputs": [
    {
     "data": {
      "text/plain": [
       "array([0.0153857 , 0.01395271, 0.0141432 , 0.01403329, 0.01406103,\n",
       "       0.01216947, 0.01471024, 0.01375786, 0.01292928, 0.        ,\n",
       "       0.        , 0.        , 0.01190979, 0.        , 0.        ,\n",
       "       0.        , 0.        , 0.01343828, 0.01288034, 0.01889441,\n",
       "       0.01949048, 0.01879566, 0.01445833, 0.01781744, 0.01661827,\n",
       "       0.01353582, 0.01381009, 0.01705943, 0.02105192, 0.01920147,\n",
       "       0.0177172 , 0.01589671, 0.02087175, 0.01816633, 0.01538878,\n",
       "       0.0166732 , 0.02301436, 0.01604116, 0.01401536, 0.01955069,\n",
       "       0.01254707, 0.02142063, 0.01600324, 0.01455608, 0.01194952,\n",
       "       0.01670918, 0.01897911, 0.01776179, 0.01809125, 0.01743587,\n",
       "       0.01735585, 0.01860582, 0.01616393, 0.0175151 , 0.02292589,\n",
       "       0.02402985, 0.01677485, 0.01942766, 0.01898378, 0.01683949,\n",
       "       0.02250208, 0.01860534, 0.01397505, 0.01856056, 0.01770334,\n",
       "       0.02313753, 0.        ], dtype=float32)"
      ]
     },
     "execution_count": 102,
     "metadata": {},
     "output_type": "execute_result"
    }
   ],
   "source": [
    "# Array of most important features\n",
    "xg.feature_importances_"
   ]
  },
  {
   "cell_type": "code",
   "execution_count": 103,
   "id": "8f6b20f5",
   "metadata": {},
   "outputs": [
    {
     "data": {
      "image/png": "[encoded data removed]",
      "text/plain": [
       "<Figure size 432x288 with 1 Axes>"
      ]
     },
     "metadata": {},
     "output_type": "display_data"
    }
   ],
   "source": [
    "plt.bar(range(len(xg.feature_importances_)), xg.feature_importances_)\n",
    "plt.show()"
   ]
  },
  {
   "cell_type": "markdown",
   "id": "c9865bb2",
   "metadata": {},
   "source": [
    "## Evaluating Best-Fit Model\n",
    "The XBoost model has a recall score of about 76%. However, the results are more difficult to interpret and the model is prone to overemphasizing outliers, causing overfitting.\n",
    "\n",
    "The random forrest model has an recall score of 73%. I have decided to use this model for further analysis, as I believe the results will be easier to interpret."
   ]
  },
  {
   "cell_type": "code",
   "execution_count": 104,
   "id": "03448af6",
   "metadata": {},
   "outputs": [],
   "source": [
    "# Random Forest\n",
    "random_forest = RandomForestClassifier(n_estimators=100)\n",
    "random_forest.fit(X_train, y_train)\n",
    "random_forest_preds = random_forest.predict(X_test)"
   ]
  },
  {
   "cell_type": "code",
   "execution_count": 105,
   "id": "b36e2e89",
   "metadata": {},
   "outputs": [
    {
     "data": {
      "text/plain": [
       "0.8544527308671678"
      ]
     },
     "execution_count": 105,
     "metadata": {},
     "output_type": "execute_result"
    }
   ],
   "source": [
    "# Make predictions using test set \n",
    "y_pred = dt.predict(X_test)\n",
    "\n",
    "# Check the AUC of predictions\n",
    "false_positive_rate, true_positive_rate, thresholds = roc_curve(y_test, y_pred)\n",
    "roc_auc = auc(false_positive_rate, true_positive_rate)\n",
    "roc_auc"
   ]
  },
  {
   "cell_type": "code",
   "execution_count": 106,
   "id": "e8e5b0d4",
   "metadata": {
    "scrolled": true
   },
   "outputs": [
    {
     "data": {
      "text/plain": [
       "0.834686586554076"
      ]
     },
     "execution_count": 106,
     "metadata": {},
     "output_type": "execute_result"
    }
   ],
   "source": [
    "recall_score(y_test, y_pred)"
   ]
  },
  {
   "cell_type": "markdown",
   "id": "5020dfd2",
   "metadata": {},
   "source": [
    "### Visualize Results of Model using SHAP\n",
    "SHAPley Additive exPlanations is a tool that creates visualizations for a machine learning model. The resource I used to fit SHAP to my data can be found [HERE.](https://towardsdatascience.com/shap-explain-any-machine-learning-model-in-python-24207127cad7)"
   ]
  },
  {
   "cell_type": "code",
   "execution_count": 107,
   "id": "7134bb00",
   "metadata": {
    "scrolled": false
   },
   "outputs": [
    {
     "name": "stdout",
     "output_type": "stream",
     "text": [
      "Requirement already satisfied: shap in /Users/jessicarodriguez/opt/anaconda3/lib/python3.8/site-packages (0.40.0)\n",
      "Requirement already satisfied: scikit-learn in /Users/jessicarodriguez/opt/anaconda3/lib/python3.8/site-packages (from shap) (0.24.1)\n",
      "Requirement already satisfied: slicer==0.0.7 in /Users/jessicarodriguez/opt/anaconda3/lib/python3.8/site-packages (from shap) (0.0.7)\n",
      "Requirement already satisfied: pandas in /Users/jessicarodriguez/opt/anaconda3/lib/python3.8/site-packages (from shap) (1.2.4)\n",
      "Requirement already satisfied: numpy in /Users/jessicarodriguez/opt/anaconda3/lib/python3.8/site-packages (from shap) (1.20.1)\n",
      "Requirement already satisfied: numba in /Users/jessicarodriguez/opt/anaconda3/lib/python3.8/site-packages (from shap) (0.53.1)\n",
      "Requirement already satisfied: tqdm>4.25.0 in /Users/jessicarodriguez/opt/anaconda3/lib/python3.8/site-packages (from shap) (4.59.0)\n",
      "Requirement already satisfied: scipy in /Users/jessicarodriguez/opt/anaconda3/lib/python3.8/site-packages (from shap) (1.6.2)\n",
      "Requirement already satisfied: cloudpickle in /Users/jessicarodriguez/opt/anaconda3/lib/python3.8/site-packages (from shap) (1.6.0)\n",
      "Requirement already satisfied: packaging>20.9 in /Users/jessicarodriguez/opt/anaconda3/lib/python3.8/site-packages (from shap) (21.3)\n",
      "Requirement already satisfied: pyparsing!=3.0.5,>=2.0.2 in /Users/jessicarodriguez/opt/anaconda3/lib/python3.8/site-packages (from packaging>20.9->shap) (2.4.7)\n",
      "Requirement already satisfied: setuptools in /Users/jessicarodriguez/opt/anaconda3/lib/python3.8/site-packages (from numba->shap) (52.0.0.post20210125)\n",
      "Requirement already satisfied: llvmlite<0.37,>=0.36.0rc1 in /Users/jessicarodriguez/opt/anaconda3/lib/python3.8/site-packages (from numba->shap) (0.36.0)\n",
      "Requirement already satisfied: python-dateutil>=2.7.3 in /Users/jessicarodriguez/opt/anaconda3/lib/python3.8/site-packages (from pandas->shap) (2.8.1)\n",
      "Requirement already satisfied: pytz>=2017.3 in /Users/jessicarodriguez/opt/anaconda3/lib/python3.8/site-packages (from pandas->shap) (2021.1)\n",
      "Requirement already satisfied: six>=1.5 in /Users/jessicarodriguez/opt/anaconda3/lib/python3.8/site-packages (from python-dateutil>=2.7.3->pandas->shap) (1.15.0)\n",
      "Requirement already satisfied: joblib>=0.11 in /Users/jessicarodriguez/opt/anaconda3/lib/python3.8/site-packages (from scikit-learn->shap) (1.0.1)\n",
      "Requirement already satisfied: threadpoolctl>=2.0.0 in /Users/jessicarodriguez/opt/anaconda3/lib/python3.8/site-packages (from scikit-learn->shap) (2.1.0)\n"
     ]
    }
   ],
   "source": [
    "!pip install shap"
   ]
  },
  {
   "cell_type": "code",
   "execution_count": null,
   "id": "f9d2f130",
   "metadata": {},
   "outputs": [],
   "source": [
    "\n",
    "explainer = shap.TreeExplainer(random_forest)\n",
    "shap_values = explainer.shap_values(X_test)\n"
   ]
  },
  {
   "cell_type": "code",
   "execution_count": null,
   "id": "abe1e7fe",
   "metadata": {},
   "outputs": [],
   "source": [
    "shap.summary_plot(shap_values, X_test, plot_type=\"bar\", max_display = 10, title=\"Risk of Loan Default\")"
   ]
  },
  {
   "cell_type": "markdown",
   "id": "17fc14af",
   "metadata": {},
   "source": [
    "In the bar plot above, class 1 (blue) indicates no risk, while class 0 (red) indicates risk."
   ]
  },
  {
   "cell_type": "code",
   "execution_count": null,
   "id": "9732cf9d",
   "metadata": {},
   "outputs": [],
   "source": [
    "# Initiate javascript\n",
    "shap.initjs()"
   ]
  },
  {
   "cell_type": "markdown",
   "id": "9c80838f",
   "metadata": {},
   "source": [
    "### Features Contributing to Pushing Model Output\n",
    "The force plot below allows us to see how features contributed to the model’s prediction for a customer churn. Features pushing the prediction higher are shown in red. Those pushing the prediction lower are in blue. The number associated with the feature shows the value that is impacting risk."
   ]
  },
  {
   "cell_type": "code",
   "execution_count": null,
   "id": "df2aa404",
   "metadata": {},
   "outputs": [],
   "source": [
    "shap.force_plot(explainer.expected_value[1], shap_values[1][0], features = X_test.iloc[0])"
   ]
  },
  {
   "cell_type": "markdown",
   "id": "30fc87e7",
   "metadata": {},
   "source": [
    "### Reading the SHAP Value Summary Plot\n",
    "On the right hand side of the graph, the legend for feature value indicates that RED is HIGH feature value and BLUE is LOW feature value. On the y axis, the features are divided individually.\n",
    "\n",
    "The x axis at the bottom ranks how significant the impact is.\n",
    "\n",
    "*If the feature has a tail going to the right, it means that those values are causing an impact on model output that is pushing default risk from zero (no risk) to one (risk).*\n"
   ]
  },
  {
   "cell_type": "code",
   "execution_count": null,
   "id": "c46b71fc",
   "metadata": {},
   "outputs": [],
   "source": [
    "shap.summary_plot(shap_values[1], features=X_test, max_display = 10)"
   ]
  },
  {
   "cell_type": "code",
   "execution_count": null,
   "id": "d002b078",
   "metadata": {},
   "outputs": [],
   "source": [
    "shap.plots.bar(explainer.expected_value[1], shap_values[1][0], features = X_test.iloc[0])"
   ]
  },
  {
   "cell_type": "markdown",
   "id": "40cf15f4",
   "metadata": {},
   "source": [
    "### SHAP Takeaways\n",
    "\n",
    "According to the visualizations, the following features are the highest contibutors of loan default:\n",
    "\n",
    "\n",
    "\n",
    "The following features are the lowest contributors of loan default:\n",
    "\n"
   ]
  },
  {
   "cell_type": "code",
   "execution_count": null,
   "id": "df284e59",
   "metadata": {},
   "outputs": [],
   "source": []
  }
 ],
 "metadata": {
  "kernelspec": {
   "display_name": "learn-env",
   "language": "python",
   "name": "learn-env"
  },
  "language_info": {
   "codemirror_mode": {
    "name": "ipython",
    "version": 3
   },
   "file_extension": ".py",
   "mimetype": "text/x-python",
   "name": "python",
   "nbconvert_exporter": "python",
   "pygments_lexer": "ipython3",
   "version": "3.6.9"
  }
 },
 "nbformat": 4,
 "nbformat_minor": 5
}
